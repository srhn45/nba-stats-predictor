{
 "cells": [
  {
   "cell_type": "code",
   "execution_count": 1,
   "id": "72886890-be8a-4658-a7fd-bcbc136b4665",
   "metadata": {},
   "outputs": [
    {
     "name": "stdin",
     "output_type": "stream",
     "text": [
      "Enter stats type (1 for Totals, 2 for Per Game):  2\n"
     ]
    },
    {
     "name": "stderr",
     "output_type": "stream",
     "text": [
      "Iterating through the players:   1%|▎                                              | 27/5011 [01:41<5:13:23,  3.77s/it]\n"
     ]
    },
    {
     "name": "stdout",
     "output_type": "stream",
     "text": [
      "\n",
      "Timeout occurred at player: Jeff Adrien\n",
      "Successfully processed 27 out of 5011 players\n",
      "Waiting 10.0 minutes before retrying...\n",
      "Progress saved to temp_nba_player_stats_partial_20250303_145947.csv\n",
      "Retrying collection...\n"
     ]
    },
    {
     "name": "stderr",
     "output_type": "stream",
     "text": [
      "Iterating through the players:  12%|█████▌                                        | 602/5011 [17:07<2:11:17,  1.79s/it]\n"
     ]
    },
    {
     "name": "stdout",
     "output_type": "stream",
     "text": [
      "\n",
      "Timeout occurred at player: Kobe Bufkin\n",
      "Successfully processed 602 out of 5011 players\n",
      "Waiting 10.0 minutes before retrying...\n"
     ]
    },
    {
     "name": "stderr",
     "output_type": "stream",
     "text": [
      "C:\\Users\\takns\\AppData\\Local\\Temp\\ipykernel_12984\\4217009973.py:111: FutureWarning: The behavior of DataFrame concatenation with empty or all-NA entries is deprecated. In a future version, this will no longer exclude empty or all-NA columns when determining the result dtypes. To retain the old behavior, exclude the relevant entries before the concat operation.\n",
      "  temp_df = pd.concat(all_stats, ignore_index=True)\n"
     ]
    },
    {
     "name": "stdout",
     "output_type": "stream",
     "text": [
      "Progress saved to temp_nba_player_stats_partial_20250303_145947.csv\n",
      "Retrying collection...\n"
     ]
    },
    {
     "name": "stderr",
     "output_type": "stream",
     "text": [
      "Iterating through the players:  12%|██████▋                                                 | 602/5011 [00:22<?, ?it/s]\n",
      "C:\\Users\\takns\\AppData\\Local\\Temp\\ipykernel_12984\\4217009973.py:111: FutureWarning: The behavior of DataFrame concatenation with empty or all-NA entries is deprecated. In a future version, this will no longer exclude empty or all-NA columns when determining the result dtypes. To retain the old behavior, exclude the relevant entries before the concat operation.\n",
      "  temp_df = pd.concat(all_stats, ignore_index=True)\n"
     ]
    },
    {
     "name": "stdout",
     "output_type": "stream",
     "text": [
      "\n",
      "Timeout occurred at player: Kobe Bufkin\n",
      "Successfully processed 602 out of 5011 players\n",
      "Waiting 10.0 minutes before retrying...\n",
      "Progress saved to temp_nba_player_stats_partial_20250303_145947.csv\n",
      "Retrying collection...\n"
     ]
    },
    {
     "name": "stderr",
     "output_type": "stream",
     "text": [
      "Iterating through the players:  12%|██████▋                                                 | 602/5011 [00:30<?, ?it/s]\n",
      "C:\\Users\\takns\\AppData\\Local\\Temp\\ipykernel_12984\\4217009973.py:111: FutureWarning: The behavior of DataFrame concatenation with empty or all-NA entries is deprecated. In a future version, this will no longer exclude empty or all-NA columns when determining the result dtypes. To retain the old behavior, exclude the relevant entries before the concat operation.\n",
      "  temp_df = pd.concat(all_stats, ignore_index=True)\n"
     ]
    },
    {
     "name": "stdout",
     "output_type": "stream",
     "text": [
      "\n",
      "Timeout occurred at player: Kobe Bufkin\n",
      "Successfully processed 602 out of 5011 players\n",
      "Waiting 10.0 minutes before retrying...\n",
      "Progress saved to temp_nba_player_stats_partial_20250303_145947.csv\n",
      "Retrying collection...\n"
     ]
    },
    {
     "name": "stderr",
     "output_type": "stream",
     "text": [
      "Iterating through the players:  12%|██████▋                                                 | 602/5011 [00:30<?, ?it/s]\n",
      "C:\\Users\\takns\\AppData\\Local\\Temp\\ipykernel_12984\\4217009973.py:111: FutureWarning: The behavior of DataFrame concatenation with empty or all-NA entries is deprecated. In a future version, this will no longer exclude empty or all-NA columns when determining the result dtypes. To retain the old behavior, exclude the relevant entries before the concat operation.\n",
      "  temp_df = pd.concat(all_stats, ignore_index=True)\n"
     ]
    },
    {
     "name": "stdout",
     "output_type": "stream",
     "text": [
      "\n",
      "Timeout occurred at player: Kobe Bufkin\n",
      "Successfully processed 602 out of 5011 players\n",
      "Waiting 10.0 minutes before retrying...\n",
      "Progress saved to temp_nba_player_stats_partial_20250303_145947.csv\n",
      "Retrying collection...\n"
     ]
    },
    {
     "name": "stderr",
     "output_type": "stream",
     "text": [
      "Iterating through the players:  14%|██████▋                                       | 722/5011 [03:58<2:22:17,  1.99s/it]\n",
      "C:\\Users\\takns\\AppData\\Local\\Temp\\ipykernel_12984\\4217009973.py:111: FutureWarning: The behavior of DataFrame concatenation with empty or all-NA entries is deprecated. In a future version, this will no longer exclude empty or all-NA columns when determining the result dtypes. To retain the old behavior, exclude the relevant entries before the concat operation.\n",
      "  temp_df = pd.concat(all_stats, ignore_index=True)\n"
     ]
    },
    {
     "name": "stdout",
     "output_type": "stream",
     "text": [
      "\n",
      "Timeout occurred at player: Jay Carty\n",
      "Successfully processed 722 out of 5011 players\n",
      "Waiting 10.0 minutes before retrying...\n",
      "Progress saved to temp_nba_player_stats_partial_20250303_145947.csv\n",
      "Retrying collection...\n"
     ]
    },
    {
     "name": "stderr",
     "output_type": "stream",
     "text": [
      "Iterating through the players:  14%|████████                                                | 722/5011 [00:30<?, ?it/s]\n",
      "C:\\Users\\takns\\AppData\\Local\\Temp\\ipykernel_12984\\4217009973.py:111: FutureWarning: The behavior of DataFrame concatenation with empty or all-NA entries is deprecated. In a future version, this will no longer exclude empty or all-NA columns when determining the result dtypes. To retain the old behavior, exclude the relevant entries before the concat operation.\n",
      "  temp_df = pd.concat(all_stats, ignore_index=True)\n"
     ]
    },
    {
     "name": "stdout",
     "output_type": "stream",
     "text": [
      "\n",
      "Timeout occurred at player: Jay Carty\n",
      "Successfully processed 722 out of 5011 players\n",
      "Waiting 10.0 minutes before retrying...\n",
      "Progress saved to temp_nba_player_stats_partial_20250303_145947.csv\n",
      "Retrying collection...\n"
     ]
    },
    {
     "name": "stderr",
     "output_type": "stream",
     "text": [
      "Iterating through the players:  14%|████████                                                | 722/5011 [00:30<?, ?it/s]\n",
      "C:\\Users\\takns\\AppData\\Local\\Temp\\ipykernel_12984\\4217009973.py:111: FutureWarning: The behavior of DataFrame concatenation with empty or all-NA entries is deprecated. In a future version, this will no longer exclude empty or all-NA columns when determining the result dtypes. To retain the old behavior, exclude the relevant entries before the concat operation.\n",
      "  temp_df = pd.concat(all_stats, ignore_index=True)\n"
     ]
    },
    {
     "name": "stdout",
     "output_type": "stream",
     "text": [
      "\n",
      "Timeout occurred at player: Jay Carty\n",
      "Successfully processed 722 out of 5011 players\n",
      "Waiting 10.0 minutes before retrying...\n",
      "Progress saved to temp_nba_player_stats_partial_20250303_145947.csv\n",
      "Retrying collection...\n"
     ]
    },
    {
     "name": "stderr",
     "output_type": "stream",
     "text": [
      "Iterating through the players:  14%|████████                                                | 722/5011 [00:30<?, ?it/s]\n",
      "C:\\Users\\takns\\AppData\\Local\\Temp\\ipykernel_12984\\4217009973.py:111: FutureWarning: The behavior of DataFrame concatenation with empty or all-NA entries is deprecated. In a future version, this will no longer exclude empty or all-NA columns when determining the result dtypes. To retain the old behavior, exclude the relevant entries before the concat operation.\n",
      "  temp_df = pd.concat(all_stats, ignore_index=True)\n"
     ]
    },
    {
     "name": "stdout",
     "output_type": "stream",
     "text": [
      "\n",
      "Timeout occurred at player: Jay Carty\n",
      "Successfully processed 722 out of 5011 players\n",
      "Waiting 10.0 minutes before retrying...\n",
      "Progress saved to temp_nba_player_stats_partial_20250303_145947.csv\n",
      "Retrying collection...\n"
     ]
    },
    {
     "name": "stderr",
     "output_type": "stream",
     "text": [
      "Iterating through the players:  14%|████████                                                | 722/5011 [00:30<?, ?it/s]\n",
      "C:\\Users\\takns\\AppData\\Local\\Temp\\ipykernel_12984\\4217009973.py:111: FutureWarning: The behavior of DataFrame concatenation with empty or all-NA entries is deprecated. In a future version, this will no longer exclude empty or all-NA columns when determining the result dtypes. To retain the old behavior, exclude the relevant entries before the concat operation.\n",
      "  temp_df = pd.concat(all_stats, ignore_index=True)\n"
     ]
    },
    {
     "name": "stdout",
     "output_type": "stream",
     "text": [
      "\n",
      "Timeout occurred at player: Jay Carty\n",
      "Successfully processed 722 out of 5011 players\n",
      "Waiting 10.0 minutes before retrying...\n",
      "Progress saved to temp_nba_player_stats_partial_20250303_145947.csv\n",
      "Retrying collection...\n"
     ]
    },
    {
     "name": "stderr",
     "output_type": "stream",
     "text": [
      "Iterating through the players:  26%|███████████▉                                 | 1324/5011 [18:33<1:53:41,  1.85s/it]\n",
      "C:\\Users\\takns\\AppData\\Local\\Temp\\ipykernel_12984\\4217009973.py:111: FutureWarning: The behavior of DataFrame concatenation with empty or all-NA entries is deprecated. In a future version, this will no longer exclude empty or all-NA columns when determining the result dtypes. To retain the old behavior, exclude the relevant entries before the concat operation.\n",
      "  temp_df = pd.concat(all_stats, ignore_index=True)\n"
     ]
    },
    {
     "name": "stdout",
     "output_type": "stream",
     "text": [
      "\n",
      "Timeout occurred at player: Jordan Farmar\n",
      "Successfully processed 1324 out of 5011 players\n",
      "Waiting 10.0 minutes before retrying...\n",
      "Progress saved to temp_nba_player_stats_partial_20250303_145947.csv\n",
      "Retrying collection...\n"
     ]
    },
    {
     "name": "stderr",
     "output_type": "stream",
     "text": [
      "Iterating through the players:  26%|██████████████▌                                        | 1324/5011 [00:30<?, ?it/s]\n",
      "C:\\Users\\takns\\AppData\\Local\\Temp\\ipykernel_12984\\4217009973.py:111: FutureWarning: The behavior of DataFrame concatenation with empty or all-NA entries is deprecated. In a future version, this will no longer exclude empty or all-NA columns when determining the result dtypes. To retain the old behavior, exclude the relevant entries before the concat operation.\n",
      "  temp_df = pd.concat(all_stats, ignore_index=True)\n"
     ]
    },
    {
     "name": "stdout",
     "output_type": "stream",
     "text": [
      "\n",
      "Timeout occurred at player: Jordan Farmar\n",
      "Successfully processed 1324 out of 5011 players\n",
      "Waiting 10.0 minutes before retrying...\n",
      "Progress saved to temp_nba_player_stats_partial_20250303_145947.csv\n",
      "Retrying collection...\n"
     ]
    },
    {
     "name": "stderr",
     "output_type": "stream",
     "text": [
      "Iterating through the players:  26%|██████████████▌                                        | 1324/5011 [00:30<?, ?it/s]\n",
      "C:\\Users\\takns\\AppData\\Local\\Temp\\ipykernel_12984\\4217009973.py:111: FutureWarning: The behavior of DataFrame concatenation with empty or all-NA entries is deprecated. In a future version, this will no longer exclude empty or all-NA columns when determining the result dtypes. To retain the old behavior, exclude the relevant entries before the concat operation.\n",
      "  temp_df = pd.concat(all_stats, ignore_index=True)\n"
     ]
    },
    {
     "name": "stdout",
     "output_type": "stream",
     "text": [
      "\n",
      "Timeout occurred at player: Jordan Farmar\n",
      "Successfully processed 1324 out of 5011 players\n",
      "Waiting 10.0 minutes before retrying...\n",
      "Progress saved to temp_nba_player_stats_partial_20250303_145947.csv\n",
      "Retrying collection...\n"
     ]
    },
    {
     "name": "stderr",
     "output_type": "stream",
     "text": [
      "Iterating through the players:  26%|██████████████▌                                        | 1324/5011 [00:30<?, ?it/s]\n",
      "C:\\Users\\takns\\AppData\\Local\\Temp\\ipykernel_12984\\4217009973.py:111: FutureWarning: The behavior of DataFrame concatenation with empty or all-NA entries is deprecated. In a future version, this will no longer exclude empty or all-NA columns when determining the result dtypes. To retain the old behavior, exclude the relevant entries before the concat operation.\n",
      "  temp_df = pd.concat(all_stats, ignore_index=True)\n"
     ]
    },
    {
     "name": "stdout",
     "output_type": "stream",
     "text": [
      "\n",
      "Timeout occurred at player: Jordan Farmar\n",
      "Successfully processed 1324 out of 5011 players\n",
      "Waiting 10.0 minutes before retrying...\n",
      "Progress saved to temp_nba_player_stats_partial_20250303_145947.csv\n",
      "Retrying collection...\n"
     ]
    },
    {
     "name": "stderr",
     "output_type": "stream",
     "text": [
      "Iterating through the players:  29%|████████████▉                                | 1444/5011 [04:03<2:00:46,  2.03s/it]\n",
      "C:\\Users\\takns\\AppData\\Local\\Temp\\ipykernel_12984\\4217009973.py:111: FutureWarning: The behavior of DataFrame concatenation with empty or all-NA entries is deprecated. In a future version, this will no longer exclude empty or all-NA columns when determining the result dtypes. To retain the old behavior, exclude the relevant entries before the concat operation.\n",
      "  temp_df = pd.concat(all_stats, ignore_index=True)\n"
     ]
    },
    {
     "name": "stdout",
     "output_type": "stream",
     "text": [
      "\n",
      "Timeout occurred at player: Enes Freedom\n",
      "Successfully processed 1444 out of 5011 players\n",
      "Waiting 10.0 minutes before retrying...\n",
      "Progress saved to temp_nba_player_stats_partial_20250303_145947.csv\n",
      "Retrying collection...\n"
     ]
    },
    {
     "name": "stderr",
     "output_type": "stream",
     "text": [
      "Iterating through the players:  29%|███████████████▊                                       | 1444/5011 [00:30<?, ?it/s]\n",
      "C:\\Users\\takns\\AppData\\Local\\Temp\\ipykernel_12984\\4217009973.py:111: FutureWarning: The behavior of DataFrame concatenation with empty or all-NA entries is deprecated. In a future version, this will no longer exclude empty or all-NA columns when determining the result dtypes. To retain the old behavior, exclude the relevant entries before the concat operation.\n",
      "  temp_df = pd.concat(all_stats, ignore_index=True)\n"
     ]
    },
    {
     "name": "stdout",
     "output_type": "stream",
     "text": [
      "\n",
      "Timeout occurred at player: Enes Freedom\n",
      "Successfully processed 1444 out of 5011 players\n",
      "Waiting 10.0 minutes before retrying...\n",
      "Progress saved to temp_nba_player_stats_partial_20250303_145947.csv\n",
      "Retrying collection...\n"
     ]
    },
    {
     "name": "stderr",
     "output_type": "stream",
     "text": [
      "Iterating through the players:  29%|███████████████▊                                       | 1444/5011 [00:30<?, ?it/s]\n",
      "C:\\Users\\takns\\AppData\\Local\\Temp\\ipykernel_12984\\4217009973.py:111: FutureWarning: The behavior of DataFrame concatenation with empty or all-NA entries is deprecated. In a future version, this will no longer exclude empty or all-NA columns when determining the result dtypes. To retain the old behavior, exclude the relevant entries before the concat operation.\n",
      "  temp_df = pd.concat(all_stats, ignore_index=True)\n"
     ]
    },
    {
     "name": "stdout",
     "output_type": "stream",
     "text": [
      "\n",
      "Timeout occurred at player: Enes Freedom\n",
      "Successfully processed 1444 out of 5011 players\n",
      "Waiting 10.0 minutes before retrying...\n",
      "Progress saved to temp_nba_player_stats_partial_20250303_145947.csv\n",
      "Retrying collection...\n"
     ]
    },
    {
     "name": "stderr",
     "output_type": "stream",
     "text": [
      "Iterating through the players:  29%|███████████████▊                                       | 1444/5011 [00:30<?, ?it/s]\n",
      "C:\\Users\\takns\\AppData\\Local\\Temp\\ipykernel_12984\\4217009973.py:111: FutureWarning: The behavior of DataFrame concatenation with empty or all-NA entries is deprecated. In a future version, this will no longer exclude empty or all-NA columns when determining the result dtypes. To retain the old behavior, exclude the relevant entries before the concat operation.\n",
      "  temp_df = pd.concat(all_stats, ignore_index=True)\n"
     ]
    },
    {
     "name": "stdout",
     "output_type": "stream",
     "text": [
      "\n",
      "Timeout occurred at player: Enes Freedom\n",
      "Successfully processed 1444 out of 5011 players\n",
      "Waiting 10.0 minutes before retrying...\n",
      "Progress saved to temp_nba_player_stats_partial_20250303_145947.csv\n",
      "Retrying collection...\n"
     ]
    },
    {
     "name": "stderr",
     "output_type": "stream",
     "text": [
      "Iterating through the players:  29%|███████████████▊                                       | 1444/5011 [00:30<?, ?it/s]\n",
      "C:\\Users\\takns\\AppData\\Local\\Temp\\ipykernel_12984\\4217009973.py:111: FutureWarning: The behavior of DataFrame concatenation with empty or all-NA entries is deprecated. In a future version, this will no longer exclude empty or all-NA columns when determining the result dtypes. To retain the old behavior, exclude the relevant entries before the concat operation.\n",
      "  temp_df = pd.concat(all_stats, ignore_index=True)\n"
     ]
    },
    {
     "name": "stdout",
     "output_type": "stream",
     "text": [
      "\n",
      "Timeout occurred at player: Enes Freedom\n",
      "Successfully processed 1444 out of 5011 players\n",
      "Waiting 10.0 minutes before retrying...\n",
      "Progress saved to temp_nba_player_stats_partial_20250303_145947.csv\n",
      "Retrying collection...\n"
     ]
    },
    {
     "name": "stderr",
     "output_type": "stream",
     "text": [
      "Iterating through the players:  29%|███████████████▊                                       | 1444/5011 [00:30<?, ?it/s]\n",
      "C:\\Users\\takns\\AppData\\Local\\Temp\\ipykernel_12984\\4217009973.py:111: FutureWarning: The behavior of DataFrame concatenation with empty or all-NA entries is deprecated. In a future version, this will no longer exclude empty or all-NA columns when determining the result dtypes. To retain the old behavior, exclude the relevant entries before the concat operation.\n",
      "  temp_df = pd.concat(all_stats, ignore_index=True)\n"
     ]
    },
    {
     "name": "stdout",
     "output_type": "stream",
     "text": [
      "\n",
      "Timeout occurred at player: Enes Freedom\n",
      "Successfully processed 1444 out of 5011 players\n",
      "Waiting 10.0 minutes before retrying...\n",
      "Progress saved to temp_nba_player_stats_partial_20250303_145947.csv\n",
      "Retrying collection...\n"
     ]
    },
    {
     "name": "stderr",
     "output_type": "stream",
     "text": [
      "Iterating through the players:  41%|██████████████████▎                          | 2046/5011 [18:42<1:32:07,  1.86s/it]\n",
      "C:\\Users\\takns\\AppData\\Local\\Temp\\ipykernel_12984\\4217009973.py:111: FutureWarning: The behavior of DataFrame concatenation with empty or all-NA entries is deprecated. In a future version, this will no longer exclude empty or all-NA columns when determining the result dtypes. To retain the old behavior, exclude the relevant entries before the concat operation.\n",
      "  temp_df = pd.concat(all_stats, ignore_index=True)\n"
     ]
    },
    {
     "name": "stdout",
     "output_type": "stream",
     "text": [
      "\n",
      "Timeout occurred at player: Lou Hudson\n",
      "Successfully processed 2046 out of 5011 players\n",
      "Waiting 10.0 minutes before retrying...\n",
      "Progress saved to temp_nba_player_stats_partial_20250303_145947.csv\n",
      "Retrying collection...\n"
     ]
    },
    {
     "name": "stderr",
     "output_type": "stream",
     "text": [
      "Iterating through the players:  41%|██████████████████████▍                                | 2046/5011 [00:30<?, ?it/s]\n",
      "C:\\Users\\takns\\AppData\\Local\\Temp\\ipykernel_12984\\4217009973.py:111: FutureWarning: The behavior of DataFrame concatenation with empty or all-NA entries is deprecated. In a future version, this will no longer exclude empty or all-NA columns when determining the result dtypes. To retain the old behavior, exclude the relevant entries before the concat operation.\n",
      "  temp_df = pd.concat(all_stats, ignore_index=True)\n"
     ]
    },
    {
     "name": "stdout",
     "output_type": "stream",
     "text": [
      "\n",
      "Timeout occurred at player: Lou Hudson\n",
      "Successfully processed 2046 out of 5011 players\n",
      "Waiting 10.0 minutes before retrying...\n",
      "Progress saved to temp_nba_player_stats_partial_20250303_145947.csv\n",
      "Retrying collection...\n"
     ]
    },
    {
     "name": "stderr",
     "output_type": "stream",
     "text": [
      "Iterating through the players:  41%|██████████████████████▍                                | 2046/5011 [00:30<?, ?it/s]\n"
     ]
    },
    {
     "name": "stdout",
     "output_type": "stream",
     "text": [
      "\n",
      "Timeout occurred at player: Lou Hudson\n",
      "Successfully processed 2046 out of 5011 players\n",
      "Waiting 10.0 minutes before retrying...\n"
     ]
    },
    {
     "name": "stderr",
     "output_type": "stream",
     "text": [
      "C:\\Users\\takns\\AppData\\Local\\Temp\\ipykernel_12984\\4217009973.py:111: FutureWarning: The behavior of DataFrame concatenation with empty or all-NA entries is deprecated. In a future version, this will no longer exclude empty or all-NA columns when determining the result dtypes. To retain the old behavior, exclude the relevant entries before the concat operation.\n",
      "  temp_df = pd.concat(all_stats, ignore_index=True)\n"
     ]
    },
    {
     "name": "stdout",
     "output_type": "stream",
     "text": [
      "Progress saved to temp_nba_player_stats_partial_20250303_145947.csv\n",
      "Retrying collection...\n"
     ]
    },
    {
     "name": "stderr",
     "output_type": "stream",
     "text": [
      "Iterating through the players:  41%|██████████████████████▍                                | 2046/5011 [00:30<?, ?it/s]\n"
     ]
    },
    {
     "name": "stdout",
     "output_type": "stream",
     "text": [
      "\n",
      "Timeout occurred at player: Lou Hudson\n",
      "Successfully processed 2046 out of 5011 players\n",
      "Waiting 10.0 minutes before retrying...\n"
     ]
    },
    {
     "name": "stderr",
     "output_type": "stream",
     "text": [
      "C:\\Users\\takns\\AppData\\Local\\Temp\\ipykernel_12984\\4217009973.py:111: FutureWarning: The behavior of DataFrame concatenation with empty or all-NA entries is deprecated. In a future version, this will no longer exclude empty or all-NA columns when determining the result dtypes. To retain the old behavior, exclude the relevant entries before the concat operation.\n",
      "  temp_df = pd.concat(all_stats, ignore_index=True)\n"
     ]
    },
    {
     "name": "stdout",
     "output_type": "stream",
     "text": [
      "Progress saved to temp_nba_player_stats_partial_20250303_145947.csv\n",
      "Retrying collection...\n"
     ]
    },
    {
     "name": "stderr",
     "output_type": "stream",
     "text": [
      "Iterating through the players:  43%|███████████████████▍                         | 2166/5011 [04:08<1:38:20,  2.07s/it]\n",
      "C:\\Users\\takns\\AppData\\Local\\Temp\\ipykernel_12984\\4217009973.py:111: FutureWarning: The behavior of DataFrame concatenation with empty or all-NA entries is deprecated. In a future version, this will no longer exclude empty or all-NA columns when determining the result dtypes. To retain the old behavior, exclude the relevant entries before the concat operation.\n",
      "  temp_df = pd.concat(all_stats, ignore_index=True)\n"
     ]
    },
    {
     "name": "stdout",
     "output_type": "stream",
     "text": [
      "\n",
      "Timeout occurred at player: John Janisch\n",
      "Successfully processed 2166 out of 5011 players\n",
      "Waiting 10.0 minutes before retrying...\n",
      "Progress saved to temp_nba_player_stats_partial_20250303_145947.csv\n",
      "Retrying collection...\n"
     ]
    },
    {
     "name": "stderr",
     "output_type": "stream",
     "text": [
      "Iterating through the players:  43%|███████████████████████▊                               | 2166/5011 [00:30<?, ?it/s]\n",
      "C:\\Users\\takns\\AppData\\Local\\Temp\\ipykernel_12984\\4217009973.py:111: FutureWarning: The behavior of DataFrame concatenation with empty or all-NA entries is deprecated. In a future version, this will no longer exclude empty or all-NA columns when determining the result dtypes. To retain the old behavior, exclude the relevant entries before the concat operation.\n",
      "  temp_df = pd.concat(all_stats, ignore_index=True)\n"
     ]
    },
    {
     "name": "stdout",
     "output_type": "stream",
     "text": [
      "\n",
      "Timeout occurred at player: John Janisch\n",
      "Successfully processed 2166 out of 5011 players\n",
      "Waiting 10.0 minutes before retrying...\n",
      "Progress saved to temp_nba_player_stats_partial_20250303_145947.csv\n",
      "Retrying collection...\n"
     ]
    },
    {
     "name": "stderr",
     "output_type": "stream",
     "text": [
      "Iterating through the players:  43%|███████████████████████▊                               | 2166/5011 [00:30<?, ?it/s]\n",
      "C:\\Users\\takns\\AppData\\Local\\Temp\\ipykernel_12984\\4217009973.py:111: FutureWarning: The behavior of DataFrame concatenation with empty or all-NA entries is deprecated. In a future version, this will no longer exclude empty or all-NA columns when determining the result dtypes. To retain the old behavior, exclude the relevant entries before the concat operation.\n",
      "  temp_df = pd.concat(all_stats, ignore_index=True)\n"
     ]
    },
    {
     "name": "stdout",
     "output_type": "stream",
     "text": [
      "\n",
      "Timeout occurred at player: John Janisch\n",
      "Successfully processed 2166 out of 5011 players\n",
      "Waiting 10.0 minutes before retrying...\n",
      "Progress saved to temp_nba_player_stats_partial_20250303_145947.csv\n",
      "Retrying collection...\n"
     ]
    },
    {
     "name": "stderr",
     "output_type": "stream",
     "text": [
      "Iterating through the players:  43%|███████████████████████▊                               | 2166/5011 [00:30<?, ?it/s]\n",
      "C:\\Users\\takns\\AppData\\Local\\Temp\\ipykernel_12984\\4217009973.py:111: FutureWarning: The behavior of DataFrame concatenation with empty or all-NA entries is deprecated. In a future version, this will no longer exclude empty or all-NA columns when determining the result dtypes. To retain the old behavior, exclude the relevant entries before the concat operation.\n",
      "  temp_df = pd.concat(all_stats, ignore_index=True)\n"
     ]
    },
    {
     "name": "stdout",
     "output_type": "stream",
     "text": [
      "\n",
      "Timeout occurred at player: John Janisch\n",
      "Successfully processed 2166 out of 5011 players\n",
      "Waiting 10.0 minutes before retrying...\n",
      "Progress saved to temp_nba_player_stats_partial_20250303_145947.csv\n",
      "Retrying collection...\n"
     ]
    },
    {
     "name": "stderr",
     "output_type": "stream",
     "text": [
      "Iterating through the players:  43%|███████████████████████▊                               | 2166/5011 [00:30<?, ?it/s]\n"
     ]
    },
    {
     "name": "stdout",
     "output_type": "stream",
     "text": [
      "\n",
      "Timeout occurred at player: John Janisch\n",
      "Successfully processed 2166 out of 5011 players\n",
      "Waiting 10.0 minutes before retrying...\n"
     ]
    },
    {
     "name": "stderr",
     "output_type": "stream",
     "text": [
      "C:\\Users\\takns\\AppData\\Local\\Temp\\ipykernel_12984\\4217009973.py:111: FutureWarning: The behavior of DataFrame concatenation with empty or all-NA entries is deprecated. In a future version, this will no longer exclude empty or all-NA columns when determining the result dtypes. To retain the old behavior, exclude the relevant entries before the concat operation.\n",
      "  temp_df = pd.concat(all_stats, ignore_index=True)\n"
     ]
    },
    {
     "name": "stdout",
     "output_type": "stream",
     "text": [
      "Progress saved to temp_nba_player_stats_partial_20250303_145947.csv\n",
      "Retrying collection...\n"
     ]
    },
    {
     "name": "stderr",
     "output_type": "stream",
     "text": [
      "Iterating through the players:  43%|███████████████████████▊                               | 2166/5011 [00:30<?, ?it/s]\n",
      "C:\\Users\\takns\\AppData\\Local\\Temp\\ipykernel_12984\\4217009973.py:111: FutureWarning: The behavior of DataFrame concatenation with empty or all-NA entries is deprecated. In a future version, this will no longer exclude empty or all-NA columns when determining the result dtypes. To retain the old behavior, exclude the relevant entries before the concat operation.\n",
      "  temp_df = pd.concat(all_stats, ignore_index=True)\n"
     ]
    },
    {
     "name": "stdout",
     "output_type": "stream",
     "text": [
      "\n",
      "Timeout occurred at player: John Janisch\n",
      "Successfully processed 2166 out of 5011 players\n",
      "Waiting 10.0 minutes before retrying...\n",
      "Progress saved to temp_nba_player_stats_partial_20250303_145947.csv\n",
      "Retrying collection...\n"
     ]
    },
    {
     "name": "stderr",
     "output_type": "stream",
     "text": [
      "Iterating through the players:  55%|████████████████████████▊                    | 2768/5011 [19:08<1:11:20,  1.91s/it]\n"
     ]
    },
    {
     "name": "stdout",
     "output_type": "stream",
     "text": [
      "\n",
      "Timeout occurred at player: Terance Mann\n",
      "Successfully processed 2768 out of 5011 players\n",
      "Waiting 10.0 minutes before retrying...\n"
     ]
    },
    {
     "name": "stderr",
     "output_type": "stream",
     "text": [
      "C:\\Users\\takns\\AppData\\Local\\Temp\\ipykernel_12984\\4217009973.py:111: FutureWarning: The behavior of DataFrame concatenation with empty or all-NA entries is deprecated. In a future version, this will no longer exclude empty or all-NA columns when determining the result dtypes. To retain the old behavior, exclude the relevant entries before the concat operation.\n",
      "  temp_df = pd.concat(all_stats, ignore_index=True)\n"
     ]
    },
    {
     "name": "stdout",
     "output_type": "stream",
     "text": [
      "Progress saved to temp_nba_player_stats_partial_20250303_145947.csv\n",
      "Retrying collection...\n"
     ]
    },
    {
     "name": "stderr",
     "output_type": "stream",
     "text": [
      "Iterating through the players:  55%|██████████████████████████████▍                        | 2768/5011 [00:30<?, ?it/s]\n"
     ]
    },
    {
     "name": "stdout",
     "output_type": "stream",
     "text": [
      "\n",
      "Timeout occurred at player: Terance Mann\n",
      "Successfully processed 2768 out of 5011 players\n",
      "Waiting 10.0 minutes before retrying...\n"
     ]
    },
    {
     "name": "stderr",
     "output_type": "stream",
     "text": [
      "C:\\Users\\takns\\AppData\\Local\\Temp\\ipykernel_12984\\4217009973.py:111: FutureWarning: The behavior of DataFrame concatenation with empty or all-NA entries is deprecated. In a future version, this will no longer exclude empty or all-NA columns when determining the result dtypes. To retain the old behavior, exclude the relevant entries before the concat operation.\n",
      "  temp_df = pd.concat(all_stats, ignore_index=True)\n"
     ]
    },
    {
     "name": "stdout",
     "output_type": "stream",
     "text": [
      "Progress saved to temp_nba_player_stats_partial_20250303_145947.csv\n",
      "Retrying collection...\n"
     ]
    },
    {
     "name": "stderr",
     "output_type": "stream",
     "text": [
      "Iterating through the players:  55%|██████████████████████████████▍                        | 2768/5011 [00:30<?, ?it/s]\n"
     ]
    },
    {
     "name": "stdout",
     "output_type": "stream",
     "text": [
      "\n",
      "Timeout occurred at player: Terance Mann\n",
      "Successfully processed 2768 out of 5011 players\n",
      "Waiting 10.0 minutes before retrying...\n"
     ]
    },
    {
     "name": "stderr",
     "output_type": "stream",
     "text": [
      "C:\\Users\\takns\\AppData\\Local\\Temp\\ipykernel_12984\\4217009973.py:111: FutureWarning: The behavior of DataFrame concatenation with empty or all-NA entries is deprecated. In a future version, this will no longer exclude empty or all-NA columns when determining the result dtypes. To retain the old behavior, exclude the relevant entries before the concat operation.\n",
      "  temp_df = pd.concat(all_stats, ignore_index=True)\n"
     ]
    },
    {
     "name": "stdout",
     "output_type": "stream",
     "text": [
      "Progress saved to temp_nba_player_stats_partial_20250303_145947.csv\n",
      "Retrying collection...\n"
     ]
    },
    {
     "name": "stderr",
     "output_type": "stream",
     "text": [
      "Iterating through the players:  55%|██████████████████████████████▍                        | 2768/5011 [00:30<?, ?it/s]\n"
     ]
    },
    {
     "name": "stdout",
     "output_type": "stream",
     "text": [
      "\n",
      "Timeout occurred at player: Terance Mann\n",
      "Successfully processed 2768 out of 5011 players\n",
      "Waiting 10.0 minutes before retrying...\n"
     ]
    },
    {
     "name": "stderr",
     "output_type": "stream",
     "text": [
      "C:\\Users\\takns\\AppData\\Local\\Temp\\ipykernel_12984\\4217009973.py:111: FutureWarning: The behavior of DataFrame concatenation with empty or all-NA entries is deprecated. In a future version, this will no longer exclude empty or all-NA columns when determining the result dtypes. To retain the old behavior, exclude the relevant entries before the concat operation.\n",
      "  temp_df = pd.concat(all_stats, ignore_index=True)\n"
     ]
    },
    {
     "name": "stdout",
     "output_type": "stream",
     "text": [
      "Progress saved to temp_nba_player_stats_partial_20250303_145947.csv\n",
      "Retrying collection...\n"
     ]
    },
    {
     "name": "stderr",
     "output_type": "stream",
     "text": [
      "Iterating through the players:  58%|█████████████████████████▉                   | 2888/5011 [04:15<1:15:11,  2.13s/it]\n"
     ]
    },
    {
     "name": "stdout",
     "output_type": "stream",
     "text": [
      "\n",
      "Timeout occurred at player: John McConathy\n",
      "Successfully processed 2888 out of 5011 players\n",
      "Waiting 10.0 minutes before retrying...\n"
     ]
    },
    {
     "name": "stderr",
     "output_type": "stream",
     "text": [
      "C:\\Users\\takns\\AppData\\Local\\Temp\\ipykernel_12984\\4217009973.py:111: FutureWarning: The behavior of DataFrame concatenation with empty or all-NA entries is deprecated. In a future version, this will no longer exclude empty or all-NA columns when determining the result dtypes. To retain the old behavior, exclude the relevant entries before the concat operation.\n",
      "  temp_df = pd.concat(all_stats, ignore_index=True)\n"
     ]
    },
    {
     "name": "stdout",
     "output_type": "stream",
     "text": [
      "Progress saved to temp_nba_player_stats_partial_20250303_145947.csv\n",
      "Retrying collection...\n"
     ]
    },
    {
     "name": "stderr",
     "output_type": "stream",
     "text": [
      "Iterating through the players:  58%|███████████████████████████████▋                       | 2888/5011 [00:30<?, ?it/s]\n"
     ]
    },
    {
     "name": "stdout",
     "output_type": "stream",
     "text": [
      "\n",
      "Timeout occurred at player: John McConathy\n",
      "Successfully processed 2888 out of 5011 players\n",
      "Waiting 10.0 minutes before retrying...\n"
     ]
    },
    {
     "name": "stderr",
     "output_type": "stream",
     "text": [
      "C:\\Users\\takns\\AppData\\Local\\Temp\\ipykernel_12984\\4217009973.py:111: FutureWarning: The behavior of DataFrame concatenation with empty or all-NA entries is deprecated. In a future version, this will no longer exclude empty or all-NA columns when determining the result dtypes. To retain the old behavior, exclude the relevant entries before the concat operation.\n",
      "  temp_df = pd.concat(all_stats, ignore_index=True)\n"
     ]
    },
    {
     "name": "stdout",
     "output_type": "stream",
     "text": [
      "Progress saved to temp_nba_player_stats_partial_20250303_145947.csv\n",
      "Retrying collection...\n"
     ]
    },
    {
     "name": "stderr",
     "output_type": "stream",
     "text": [
      "Iterating through the players:  58%|███████████████████████████████▋                       | 2888/5011 [00:30<?, ?it/s]\n"
     ]
    },
    {
     "name": "stdout",
     "output_type": "stream",
     "text": [
      "\n",
      "Timeout occurred at player: John McConathy\n",
      "Successfully processed 2888 out of 5011 players\n",
      "Waiting 10.0 minutes before retrying...\n"
     ]
    },
    {
     "name": "stderr",
     "output_type": "stream",
     "text": [
      "C:\\Users\\takns\\AppData\\Local\\Temp\\ipykernel_12984\\4217009973.py:111: FutureWarning: The behavior of DataFrame concatenation with empty or all-NA entries is deprecated. In a future version, this will no longer exclude empty or all-NA columns when determining the result dtypes. To retain the old behavior, exclude the relevant entries before the concat operation.\n",
      "  temp_df = pd.concat(all_stats, ignore_index=True)\n"
     ]
    },
    {
     "name": "stdout",
     "output_type": "stream",
     "text": [
      "Progress saved to temp_nba_player_stats_partial_20250303_145947.csv\n",
      "Retrying collection...\n"
     ]
    },
    {
     "name": "stderr",
     "output_type": "stream",
     "text": [
      "Iterating through the players:  58%|███████████████████████████████▋                       | 2888/5011 [00:30<?, ?it/s]\n"
     ]
    },
    {
     "name": "stdout",
     "output_type": "stream",
     "text": [
      "\n",
      "Timeout occurred at player: John McConathy\n",
      "Successfully processed 2888 out of 5011 players\n",
      "Waiting 10.0 minutes before retrying...\n"
     ]
    },
    {
     "name": "stderr",
     "output_type": "stream",
     "text": [
      "C:\\Users\\takns\\AppData\\Local\\Temp\\ipykernel_12984\\4217009973.py:111: FutureWarning: The behavior of DataFrame concatenation with empty or all-NA entries is deprecated. In a future version, this will no longer exclude empty or all-NA columns when determining the result dtypes. To retain the old behavior, exclude the relevant entries before the concat operation.\n",
      "  temp_df = pd.concat(all_stats, ignore_index=True)\n"
     ]
    },
    {
     "name": "stdout",
     "output_type": "stream",
     "text": [
      "Progress saved to temp_nba_player_stats_partial_20250303_145947.csv\n",
      "Retrying collection...\n"
     ]
    },
    {
     "name": "stderr",
     "output_type": "stream",
     "text": [
      "Iterating through the players:  58%|███████████████████████████████▋                       | 2888/5011 [00:30<?, ?it/s]\n"
     ]
    },
    {
     "name": "stdout",
     "output_type": "stream",
     "text": [
      "\n",
      "Timeout occurred at player: John McConathy\n",
      "Successfully processed 2888 out of 5011 players\n",
      "Waiting 10.0 minutes before retrying...\n"
     ]
    },
    {
     "name": "stderr",
     "output_type": "stream",
     "text": [
      "C:\\Users\\takns\\AppData\\Local\\Temp\\ipykernel_12984\\4217009973.py:111: FutureWarning: The behavior of DataFrame concatenation with empty or all-NA entries is deprecated. In a future version, this will no longer exclude empty or all-NA columns when determining the result dtypes. To retain the old behavior, exclude the relevant entries before the concat operation.\n",
      "  temp_df = pd.concat(all_stats, ignore_index=True)\n"
     ]
    },
    {
     "name": "stdout",
     "output_type": "stream",
     "text": [
      "Progress saved to temp_nba_player_stats_partial_20250303_145947.csv\n",
      "Retrying collection...\n"
     ]
    },
    {
     "name": "stderr",
     "output_type": "stream",
     "text": [
      "Iterating through the players:  58%|███████████████████████████████▋                       | 2888/5011 [00:30<?, ?it/s]\n",
      "C:\\Users\\takns\\AppData\\Local\\Temp\\ipykernel_12984\\4217009973.py:111: FutureWarning: The behavior of DataFrame concatenation with empty or all-NA entries is deprecated. In a future version, this will no longer exclude empty or all-NA columns when determining the result dtypes. To retain the old behavior, exclude the relevant entries before the concat operation.\n",
      "  temp_df = pd.concat(all_stats, ignore_index=True)\n"
     ]
    },
    {
     "name": "stdout",
     "output_type": "stream",
     "text": [
      "\n",
      "Timeout occurred at player: John McConathy\n",
      "Successfully processed 2888 out of 5011 players\n",
      "Waiting 10.0 minutes before retrying...\n",
      "Progress saved to temp_nba_player_stats_partial_20250303_145947.csv\n",
      "Retrying collection...\n"
     ]
    },
    {
     "name": "stderr",
     "output_type": "stream",
     "text": [
      "Iterating through the players:  70%|████████████████████████████████▋              | 3490/5011 [18:35<46:57,  1.85s/it]\n"
     ]
    },
    {
     "name": "stdout",
     "output_type": "stream",
     "text": [
      "\n",
      "Timeout occurred at player: Reggie Perry\n",
      "Successfully processed 3490 out of 5011 players\n",
      "Waiting 10.0 minutes before retrying...\n"
     ]
    },
    {
     "name": "stderr",
     "output_type": "stream",
     "text": [
      "C:\\Users\\takns\\AppData\\Local\\Temp\\ipykernel_12984\\4217009973.py:111: FutureWarning: The behavior of DataFrame concatenation with empty or all-NA entries is deprecated. In a future version, this will no longer exclude empty or all-NA columns when determining the result dtypes. To retain the old behavior, exclude the relevant entries before the concat operation.\n",
      "  temp_df = pd.concat(all_stats, ignore_index=True)\n"
     ]
    },
    {
     "name": "stdout",
     "output_type": "stream",
     "text": [
      "Progress saved to temp_nba_player_stats_partial_20250303_145947.csv\n",
      "Retrying collection...\n"
     ]
    },
    {
     "name": "stderr",
     "output_type": "stream",
     "text": [
      "Iterating through the players:  70%|██████████████████████████████████████▎                | 3490/5011 [00:30<?, ?it/s]\n"
     ]
    },
    {
     "name": "stdout",
     "output_type": "stream",
     "text": [
      "\n",
      "Timeout occurred at player: Reggie Perry\n",
      "Successfully processed 3490 out of 5011 players\n",
      "Waiting 10.0 minutes before retrying...\n"
     ]
    },
    {
     "name": "stderr",
     "output_type": "stream",
     "text": [
      "C:\\Users\\takns\\AppData\\Local\\Temp\\ipykernel_12984\\4217009973.py:111: FutureWarning: The behavior of DataFrame concatenation with empty or all-NA entries is deprecated. In a future version, this will no longer exclude empty or all-NA columns when determining the result dtypes. To retain the old behavior, exclude the relevant entries before the concat operation.\n",
      "  temp_df = pd.concat(all_stats, ignore_index=True)\n"
     ]
    },
    {
     "name": "stdout",
     "output_type": "stream",
     "text": [
      "Progress saved to temp_nba_player_stats_partial_20250303_145947.csv\n",
      "Retrying collection...\n"
     ]
    },
    {
     "name": "stderr",
     "output_type": "stream",
     "text": [
      "Iterating through the players:  70%|██████████████████████████████████████▎                | 3490/5011 [00:30<?, ?it/s]\n"
     ]
    },
    {
     "name": "stdout",
     "output_type": "stream",
     "text": [
      "\n",
      "Timeout occurred at player: Reggie Perry\n",
      "Successfully processed 3490 out of 5011 players\n",
      "Waiting 10.0 minutes before retrying...\n"
     ]
    },
    {
     "name": "stderr",
     "output_type": "stream",
     "text": [
      "C:\\Users\\takns\\AppData\\Local\\Temp\\ipykernel_12984\\4217009973.py:111: FutureWarning: The behavior of DataFrame concatenation with empty or all-NA entries is deprecated. In a future version, this will no longer exclude empty or all-NA columns when determining the result dtypes. To retain the old behavior, exclude the relevant entries before the concat operation.\n",
      "  temp_df = pd.concat(all_stats, ignore_index=True)\n"
     ]
    },
    {
     "name": "stdout",
     "output_type": "stream",
     "text": [
      "Progress saved to temp_nba_player_stats_partial_20250303_145947.csv\n",
      "Retrying collection...\n"
     ]
    },
    {
     "name": "stderr",
     "output_type": "stream",
     "text": [
      "Iterating through the players:  70%|██████████████████████████████████████▎                | 3490/5011 [00:30<?, ?it/s]\n"
     ]
    },
    {
     "name": "stdout",
     "output_type": "stream",
     "text": [
      "\n",
      "Timeout occurred at player: Reggie Perry\n",
      "Successfully processed 3490 out of 5011 players\n",
      "Waiting 10.0 minutes before retrying...\n"
     ]
    },
    {
     "name": "stderr",
     "output_type": "stream",
     "text": [
      "C:\\Users\\takns\\AppData\\Local\\Temp\\ipykernel_12984\\4217009973.py:111: FutureWarning: The behavior of DataFrame concatenation with empty or all-NA entries is deprecated. In a future version, this will no longer exclude empty or all-NA columns when determining the result dtypes. To retain the old behavior, exclude the relevant entries before the concat operation.\n",
      "  temp_df = pd.concat(all_stats, ignore_index=True)\n"
     ]
    },
    {
     "name": "stdout",
     "output_type": "stream",
     "text": [
      "Progress saved to temp_nba_player_stats_partial_20250303_145947.csv\n",
      "Retrying collection...\n"
     ]
    },
    {
     "name": "stderr",
     "output_type": "stream",
     "text": [
      "Iterating through the players:  72%|█████████████████████████████████▊             | 3610/5011 [03:59<46:32,  1.99s/it]\n"
     ]
    },
    {
     "name": "stdout",
     "output_type": "stream",
     "text": [
      "\n",
      "Timeout occurred at player: Gabe Pruitt\n",
      "Successfully processed 3610 out of 5011 players\n",
      "Waiting 10.0 minutes before retrying...\n"
     ]
    },
    {
     "name": "stderr",
     "output_type": "stream",
     "text": [
      "C:\\Users\\takns\\AppData\\Local\\Temp\\ipykernel_12984\\4217009973.py:111: FutureWarning: The behavior of DataFrame concatenation with empty or all-NA entries is deprecated. In a future version, this will no longer exclude empty or all-NA columns when determining the result dtypes. To retain the old behavior, exclude the relevant entries before the concat operation.\n",
      "  temp_df = pd.concat(all_stats, ignore_index=True)\n"
     ]
    },
    {
     "name": "stdout",
     "output_type": "stream",
     "text": [
      "Progress saved to temp_nba_player_stats_partial_20250303_145947.csv\n",
      "Retrying collection...\n"
     ]
    },
    {
     "name": "stderr",
     "output_type": "stream",
     "text": [
      "Iterating through the players:  72%|███████████████████████████████████████▌               | 3610/5011 [00:30<?, ?it/s]\n"
     ]
    },
    {
     "name": "stdout",
     "output_type": "stream",
     "text": [
      "\n",
      "Timeout occurred at player: Gabe Pruitt\n",
      "Successfully processed 3610 out of 5011 players\n",
      "Waiting 10.0 minutes before retrying...\n"
     ]
    },
    {
     "name": "stderr",
     "output_type": "stream",
     "text": [
      "C:\\Users\\takns\\AppData\\Local\\Temp\\ipykernel_12984\\4217009973.py:111: FutureWarning: The behavior of DataFrame concatenation with empty or all-NA entries is deprecated. In a future version, this will no longer exclude empty or all-NA columns when determining the result dtypes. To retain the old behavior, exclude the relevant entries before the concat operation.\n",
      "  temp_df = pd.concat(all_stats, ignore_index=True)\n"
     ]
    },
    {
     "name": "stdout",
     "output_type": "stream",
     "text": [
      "Progress saved to temp_nba_player_stats_partial_20250303_145947.csv\n",
      "Retrying collection...\n"
     ]
    },
    {
     "name": "stderr",
     "output_type": "stream",
     "text": [
      "Iterating through the players:  72%|███████████████████████████████████████▌               | 3610/5011 [00:30<?, ?it/s]\n"
     ]
    },
    {
     "name": "stdout",
     "output_type": "stream",
     "text": [
      "\n",
      "Timeout occurred at player: Gabe Pruitt\n",
      "Successfully processed 3610 out of 5011 players\n",
      "Waiting 10.0 minutes before retrying...\n"
     ]
    },
    {
     "name": "stderr",
     "output_type": "stream",
     "text": [
      "C:\\Users\\takns\\AppData\\Local\\Temp\\ipykernel_12984\\4217009973.py:111: FutureWarning: The behavior of DataFrame concatenation with empty or all-NA entries is deprecated. In a future version, this will no longer exclude empty or all-NA columns when determining the result dtypes. To retain the old behavior, exclude the relevant entries before the concat operation.\n",
      "  temp_df = pd.concat(all_stats, ignore_index=True)\n"
     ]
    },
    {
     "name": "stdout",
     "output_type": "stream",
     "text": [
      "Progress saved to temp_nba_player_stats_partial_20250303_145947.csv\n",
      "Retrying collection...\n"
     ]
    },
    {
     "name": "stderr",
     "output_type": "stream",
     "text": [
      "Iterating through the players:  72%|███████████████████████████████████████▌               | 3610/5011 [00:30<?, ?it/s]\n"
     ]
    },
    {
     "name": "stdout",
     "output_type": "stream",
     "text": [
      "\n",
      "Timeout occurred at player: Gabe Pruitt\n",
      "Successfully processed 3610 out of 5011 players\n",
      "Waiting 10.0 minutes before retrying...\n"
     ]
    },
    {
     "name": "stderr",
     "output_type": "stream",
     "text": [
      "C:\\Users\\takns\\AppData\\Local\\Temp\\ipykernel_12984\\4217009973.py:111: FutureWarning: The behavior of DataFrame concatenation with empty or all-NA entries is deprecated. In a future version, this will no longer exclude empty or all-NA columns when determining the result dtypes. To retain the old behavior, exclude the relevant entries before the concat operation.\n",
      "  temp_df = pd.concat(all_stats, ignore_index=True)\n"
     ]
    },
    {
     "name": "stdout",
     "output_type": "stream",
     "text": [
      "Progress saved to temp_nba_player_stats_partial_20250303_145947.csv\n",
      "Retrying collection...\n"
     ]
    },
    {
     "name": "stderr",
     "output_type": "stream",
     "text": [
      "Iterating through the players:  72%|███████████████████████████████████████▌               | 3610/5011 [00:30<?, ?it/s]\n"
     ]
    },
    {
     "name": "stdout",
     "output_type": "stream",
     "text": [
      "\n",
      "Timeout occurred at player: Gabe Pruitt\n",
      "Successfully processed 3610 out of 5011 players\n",
      "Waiting 10.0 minutes before retrying...\n"
     ]
    },
    {
     "name": "stderr",
     "output_type": "stream",
     "text": [
      "C:\\Users\\takns\\AppData\\Local\\Temp\\ipykernel_12984\\4217009973.py:111: FutureWarning: The behavior of DataFrame concatenation with empty or all-NA entries is deprecated. In a future version, this will no longer exclude empty or all-NA columns when determining the result dtypes. To retain the old behavior, exclude the relevant entries before the concat operation.\n",
      "  temp_df = pd.concat(all_stats, ignore_index=True)\n"
     ]
    },
    {
     "name": "stdout",
     "output_type": "stream",
     "text": [
      "Progress saved to temp_nba_player_stats_partial_20250303_145947.csv\n",
      "Retrying collection...\n"
     ]
    },
    {
     "name": "stderr",
     "output_type": "stream",
     "text": [
      "Iterating through the players:  72%|███████████████████████████████████████▌               | 3610/5011 [00:30<?, ?it/s]\n"
     ]
    },
    {
     "name": "stdout",
     "output_type": "stream",
     "text": [
      "\n",
      "Timeout occurred at player: Gabe Pruitt\n",
      "Successfully processed 3610 out of 5011 players\n",
      "Waiting 10.0 minutes before retrying...\n"
     ]
    },
    {
     "name": "stderr",
     "output_type": "stream",
     "text": [
      "C:\\Users\\takns\\AppData\\Local\\Temp\\ipykernel_12984\\4217009973.py:111: FutureWarning: The behavior of DataFrame concatenation with empty or all-NA entries is deprecated. In a future version, this will no longer exclude empty or all-NA columns when determining the result dtypes. To retain the old behavior, exclude the relevant entries before the concat operation.\n",
      "  temp_df = pd.concat(all_stats, ignore_index=True)\n"
     ]
    },
    {
     "name": "stdout",
     "output_type": "stream",
     "text": [
      "Progress saved to temp_nba_player_stats_partial_20250303_145947.csv\n",
      "Retrying collection...\n"
     ]
    },
    {
     "name": "stderr",
     "output_type": "stream",
     "text": [
      "Iterating through the players:  83%|██████████████████████████████████████▊        | 4137/5011 [15:37<25:55,  1.78s/it]\n"
     ]
    },
    {
     "name": "stdout",
     "output_type": "stream",
     "text": [
      "\n",
      "Timeout occurred at player: Jim Smith\n",
      "Successfully processed 4137 out of 5011 players\n",
      "Waiting 10.0 minutes before retrying...\n"
     ]
    },
    {
     "name": "stderr",
     "output_type": "stream",
     "text": [
      "C:\\Users\\takns\\AppData\\Local\\Temp\\ipykernel_12984\\4217009973.py:111: FutureWarning: The behavior of DataFrame concatenation with empty or all-NA entries is deprecated. In a future version, this will no longer exclude empty or all-NA columns when determining the result dtypes. To retain the old behavior, exclude the relevant entries before the concat operation.\n",
      "  temp_df = pd.concat(all_stats, ignore_index=True)\n"
     ]
    },
    {
     "name": "stdout",
     "output_type": "stream",
     "text": [
      "Progress saved to temp_nba_player_stats_partial_20250303_145947.csv\n",
      "Retrying collection...\n"
     ]
    },
    {
     "name": "stderr",
     "output_type": "stream",
     "text": [
      "Iterating through the players:  83%|█████████████████████████████████████▏       | 4146/5011 [00:49<1:20:00,  5.55s/it]\n"
     ]
    },
    {
     "name": "stdout",
     "output_type": "stream",
     "text": [
      "\n",
      "Timeout occurred at player: Michael Smith\n",
      "Successfully processed 4146 out of 5011 players\n",
      "Waiting 10.0 minutes before retrying...\n"
     ]
    },
    {
     "name": "stderr",
     "output_type": "stream",
     "text": [
      "C:\\Users\\takns\\AppData\\Local\\Temp\\ipykernel_12984\\4217009973.py:111: FutureWarning: The behavior of DataFrame concatenation with empty or all-NA entries is deprecated. In a future version, this will no longer exclude empty or all-NA columns when determining the result dtypes. To retain the old behavior, exclude the relevant entries before the concat operation.\n",
      "  temp_df = pd.concat(all_stats, ignore_index=True)\n"
     ]
    },
    {
     "name": "stdout",
     "output_type": "stream",
     "text": [
      "Progress saved to temp_nba_player_stats_partial_20250303_145947.csv\n",
      "Retrying collection...\n"
     ]
    },
    {
     "name": "stderr",
     "output_type": "stream",
     "text": [
      "Iterating through the players:  84%|███████████████████████████████████████▌       | 4212/5011 [02:17<27:45,  2.08s/it]\n"
     ]
    },
    {
     "name": "stdout",
     "output_type": "stream",
     "text": [
      "\n",
      "Timeout occurred at player: Ryan Stack\n",
      "Successfully processed 4212 out of 5011 players\n",
      "Waiting 10.0 minutes before retrying...\n"
     ]
    },
    {
     "name": "stderr",
     "output_type": "stream",
     "text": [
      "C:\\Users\\takns\\AppData\\Local\\Temp\\ipykernel_12984\\4217009973.py:111: FutureWarning: The behavior of DataFrame concatenation with empty or all-NA entries is deprecated. In a future version, this will no longer exclude empty or all-NA columns when determining the result dtypes. To retain the old behavior, exclude the relevant entries before the concat operation.\n",
      "  temp_df = pd.concat(all_stats, ignore_index=True)\n"
     ]
    },
    {
     "name": "stdout",
     "output_type": "stream",
     "text": [
      "Progress saved to temp_nba_player_stats_partial_20250303_145947.csv\n",
      "Retrying collection...\n"
     ]
    },
    {
     "name": "stderr",
     "output_type": "stream",
     "text": [
      "Iterating through the players:  84%|██████████████████████████████████████████████▏        | 4212/5011 [00:30<?, ?it/s]\n"
     ]
    },
    {
     "name": "stdout",
     "output_type": "stream",
     "text": [
      "\n",
      "Timeout occurred at player: Ryan Stack\n",
      "Successfully processed 4212 out of 5011 players\n",
      "Waiting 10.0 minutes before retrying...\n"
     ]
    },
    {
     "name": "stderr",
     "output_type": "stream",
     "text": [
      "C:\\Users\\takns\\AppData\\Local\\Temp\\ipykernel_12984\\4217009973.py:111: FutureWarning: The behavior of DataFrame concatenation with empty or all-NA entries is deprecated. In a future version, this will no longer exclude empty or all-NA columns when determining the result dtypes. To retain the old behavior, exclude the relevant entries before the concat operation.\n",
      "  temp_df = pd.concat(all_stats, ignore_index=True)\n"
     ]
    },
    {
     "name": "stdout",
     "output_type": "stream",
     "text": [
      "Progress saved to temp_nba_player_stats_partial_20250303_145947.csv\n",
      "Retrying collection...\n"
     ]
    },
    {
     "name": "stderr",
     "output_type": "stream",
     "text": [
      "Iterating through the players:  84%|██████████████████████████████████████████████▏        | 4212/5011 [00:22<?, ?it/s]\n"
     ]
    },
    {
     "name": "stdout",
     "output_type": "stream",
     "text": [
      "\n",
      "Timeout occurred at player: Ryan Stack\n",
      "Successfully processed 4212 out of 5011 players\n",
      "Waiting 10.0 minutes before retrying...\n"
     ]
    },
    {
     "name": "stderr",
     "output_type": "stream",
     "text": [
      "C:\\Users\\takns\\AppData\\Local\\Temp\\ipykernel_12984\\4217009973.py:111: FutureWarning: The behavior of DataFrame concatenation with empty or all-NA entries is deprecated. In a future version, this will no longer exclude empty or all-NA columns when determining the result dtypes. To retain the old behavior, exclude the relevant entries before the concat operation.\n",
      "  temp_df = pd.concat(all_stats, ignore_index=True)\n"
     ]
    },
    {
     "name": "stdout",
     "output_type": "stream",
     "text": [
      "Progress saved to temp_nba_player_stats_partial_20250303_145947.csv\n",
      "Retrying collection...\n"
     ]
    },
    {
     "name": "stderr",
     "output_type": "stream",
     "text": [
      "Iterating through the players:  86%|████████████████████████████████████████▋      | 4332/5011 [03:40<20:46,  1.84s/it]\n"
     ]
    },
    {
     "name": "stdout",
     "output_type": "stream",
     "text": [
      "\n",
      "Timeout occurred at player: Johnny Taylor\n",
      "Successfully processed 4332 out of 5011 players\n",
      "Waiting 10.0 minutes before retrying...\n"
     ]
    },
    {
     "name": "stderr",
     "output_type": "stream",
     "text": [
      "C:\\Users\\takns\\AppData\\Local\\Temp\\ipykernel_12984\\4217009973.py:111: FutureWarning: The behavior of DataFrame concatenation with empty or all-NA entries is deprecated. In a future version, this will no longer exclude empty or all-NA columns when determining the result dtypes. To retain the old behavior, exclude the relevant entries before the concat operation.\n",
      "  temp_df = pd.concat(all_stats, ignore_index=True)\n"
     ]
    },
    {
     "name": "stdout",
     "output_type": "stream",
     "text": [
      "Progress saved to temp_nba_player_stats_partial_20250303_145947.csv\n",
      "Retrying collection...\n"
     ]
    },
    {
     "name": "stderr",
     "output_type": "stream",
     "text": [
      "Iterating through the players:  86%|███████████████████████████████████████████████▌       | 4332/5011 [00:30<?, ?it/s]\n"
     ]
    },
    {
     "name": "stdout",
     "output_type": "stream",
     "text": [
      "\n",
      "Timeout occurred at player: Johnny Taylor\n",
      "Successfully processed 4332 out of 5011 players\n",
      "Waiting 10.0 minutes before retrying...\n"
     ]
    },
    {
     "name": "stderr",
     "output_type": "stream",
     "text": [
      "C:\\Users\\takns\\AppData\\Local\\Temp\\ipykernel_12984\\4217009973.py:111: FutureWarning: The behavior of DataFrame concatenation with empty or all-NA entries is deprecated. In a future version, this will no longer exclude empty or all-NA columns when determining the result dtypes. To retain the old behavior, exclude the relevant entries before the concat operation.\n",
      "  temp_df = pd.concat(all_stats, ignore_index=True)\n"
     ]
    },
    {
     "name": "stdout",
     "output_type": "stream",
     "text": [
      "Progress saved to temp_nba_player_stats_partial_20250303_145947.csv\n",
      "Retrying collection...\n"
     ]
    },
    {
     "name": "stderr",
     "output_type": "stream",
     "text": [
      "Iterating through the players:  86%|███████████████████████████████████████████████▌       | 4332/5011 [00:30<?, ?it/s]\n"
     ]
    },
    {
     "name": "stdout",
     "output_type": "stream",
     "text": [
      "\n",
      "Timeout occurred at player: Johnny Taylor\n",
      "Successfully processed 4332 out of 5011 players\n",
      "Waiting 10.0 minutes before retrying...\n"
     ]
    },
    {
     "name": "stderr",
     "output_type": "stream",
     "text": [
      "C:\\Users\\takns\\AppData\\Local\\Temp\\ipykernel_12984\\4217009973.py:111: FutureWarning: The behavior of DataFrame concatenation with empty or all-NA entries is deprecated. In a future version, this will no longer exclude empty or all-NA columns when determining the result dtypes. To retain the old behavior, exclude the relevant entries before the concat operation.\n",
      "  temp_df = pd.concat(all_stats, ignore_index=True)\n"
     ]
    },
    {
     "name": "stdout",
     "output_type": "stream",
     "text": [
      "Progress saved to temp_nba_player_stats_partial_20250303_145947.csv\n",
      "Retrying collection...\n"
     ]
    },
    {
     "name": "stderr",
     "output_type": "stream",
     "text": [
      "Iterating through the players:  86%|███████████████████████████████████████████████▌       | 4332/5011 [00:30<?, ?it/s]\n"
     ]
    },
    {
     "name": "stdout",
     "output_type": "stream",
     "text": [
      "\n",
      "Timeout occurred at player: Johnny Taylor\n",
      "Successfully processed 4332 out of 5011 players\n",
      "Waiting 10.0 minutes before retrying...\n"
     ]
    },
    {
     "name": "stderr",
     "output_type": "stream",
     "text": [
      "C:\\Users\\takns\\AppData\\Local\\Temp\\ipykernel_12984\\4217009973.py:111: FutureWarning: The behavior of DataFrame concatenation with empty or all-NA entries is deprecated. In a future version, this will no longer exclude empty or all-NA columns when determining the result dtypes. To retain the old behavior, exclude the relevant entries before the concat operation.\n",
      "  temp_df = pd.concat(all_stats, ignore_index=True)\n"
     ]
    },
    {
     "name": "stdout",
     "output_type": "stream",
     "text": [
      "Progress saved to temp_nba_player_stats_partial_20250303_145947.csv\n",
      "Retrying collection...\n"
     ]
    },
    {
     "name": "stderr",
     "output_type": "stream",
     "text": [
      "Iterating through the players:  86%|███████████████████████████████████████████████▌       | 4332/5011 [00:30<?, ?it/s]\n"
     ]
    },
    {
     "name": "stdout",
     "output_type": "stream",
     "text": [
      "\n",
      "Timeout occurred at player: Johnny Taylor\n",
      "Successfully processed 4332 out of 5011 players\n",
      "Waiting 10.0 minutes before retrying...\n"
     ]
    },
    {
     "name": "stderr",
     "output_type": "stream",
     "text": [
      "C:\\Users\\takns\\AppData\\Local\\Temp\\ipykernel_12984\\4217009973.py:111: FutureWarning: The behavior of DataFrame concatenation with empty or all-NA entries is deprecated. In a future version, this will no longer exclude empty or all-NA columns when determining the result dtypes. To retain the old behavior, exclude the relevant entries before the concat operation.\n",
      "  temp_df = pd.concat(all_stats, ignore_index=True)\n"
     ]
    },
    {
     "name": "stdout",
     "output_type": "stream",
     "text": [
      "Progress saved to temp_nba_player_stats_partial_20250303_145947.csv\n",
      "Retrying collection...\n"
     ]
    },
    {
     "name": "stderr",
     "output_type": "stream",
     "text": [
      "Iterating through the players:  98%|██████████████████████████████████████████████▎| 4934/5011 [19:35<02:30,  1.95s/it]\n"
     ]
    },
    {
     "name": "stdout",
     "output_type": "stream",
     "text": [
      "\n",
      "Timeout occurred at player: Randy Woods\n",
      "Successfully processed 4934 out of 5011 players\n",
      "Waiting 10.0 minutes before retrying...\n"
     ]
    },
    {
     "name": "stderr",
     "output_type": "stream",
     "text": [
      "C:\\Users\\takns\\AppData\\Local\\Temp\\ipykernel_12984\\4217009973.py:111: FutureWarning: The behavior of DataFrame concatenation with empty or all-NA entries is deprecated. In a future version, this will no longer exclude empty or all-NA columns when determining the result dtypes. To retain the old behavior, exclude the relevant entries before the concat operation.\n",
      "  temp_df = pd.concat(all_stats, ignore_index=True)\n"
     ]
    },
    {
     "name": "stdout",
     "output_type": "stream",
     "text": [
      "Progress saved to temp_nba_player_stats_partial_20250303_145947.csv\n",
      "Retrying collection...\n"
     ]
    },
    {
     "name": "stderr",
     "output_type": "stream",
     "text": [
      "Iterating through the players:  98%|██████████████████████████████████████████████████████▏| 4934/5011 [00:30<?, ?it/s]\n"
     ]
    },
    {
     "name": "stdout",
     "output_type": "stream",
     "text": [
      "\n",
      "Timeout occurred at player: Randy Woods\n",
      "Successfully processed 4934 out of 5011 players\n",
      "Waiting 10.0 minutes before retrying...\n"
     ]
    },
    {
     "name": "stderr",
     "output_type": "stream",
     "text": [
      "C:\\Users\\takns\\AppData\\Local\\Temp\\ipykernel_12984\\4217009973.py:111: FutureWarning: The behavior of DataFrame concatenation with empty or all-NA entries is deprecated. In a future version, this will no longer exclude empty or all-NA columns when determining the result dtypes. To retain the old behavior, exclude the relevant entries before the concat operation.\n",
      "  temp_df = pd.concat(all_stats, ignore_index=True)\n"
     ]
    },
    {
     "name": "stdout",
     "output_type": "stream",
     "text": [
      "Progress saved to temp_nba_player_stats_partial_20250303_145947.csv\n",
      "Retrying collection...\n"
     ]
    },
    {
     "name": "stderr",
     "output_type": "stream",
     "text": [
      "Iterating through the players:  98%|██████████████████████████████████████████████████████▏| 4934/5011 [00:30<?, ?it/s]\n"
     ]
    },
    {
     "name": "stdout",
     "output_type": "stream",
     "text": [
      "\n",
      "Timeout occurred at player: Randy Woods\n",
      "Successfully processed 4934 out of 5011 players\n",
      "Waiting 10.0 minutes before retrying...\n"
     ]
    },
    {
     "name": "stderr",
     "output_type": "stream",
     "text": [
      "C:\\Users\\takns\\AppData\\Local\\Temp\\ipykernel_12984\\4217009973.py:111: FutureWarning: The behavior of DataFrame concatenation with empty or all-NA entries is deprecated. In a future version, this will no longer exclude empty or all-NA columns when determining the result dtypes. To retain the old behavior, exclude the relevant entries before the concat operation.\n",
      "  temp_df = pd.concat(all_stats, ignore_index=True)\n"
     ]
    },
    {
     "name": "stdout",
     "output_type": "stream",
     "text": [
      "Progress saved to temp_nba_player_stats_partial_20250303_145947.csv\n",
      "Retrying collection...\n"
     ]
    },
    {
     "name": "stderr",
     "output_type": "stream",
     "text": [
      "Iterating through the players:  98%|██████████████████████████████████████████████████████▏| 4934/5011 [00:30<?, ?it/s]\n"
     ]
    },
    {
     "name": "stdout",
     "output_type": "stream",
     "text": [
      "\n",
      "Timeout occurred at player: Randy Woods\n",
      "Successfully processed 4934 out of 5011 players\n",
      "Waiting 10.0 minutes before retrying...\n"
     ]
    },
    {
     "name": "stderr",
     "output_type": "stream",
     "text": [
      "C:\\Users\\takns\\AppData\\Local\\Temp\\ipykernel_12984\\4217009973.py:111: FutureWarning: The behavior of DataFrame concatenation with empty or all-NA entries is deprecated. In a future version, this will no longer exclude empty or all-NA columns when determining the result dtypes. To retain the old behavior, exclude the relevant entries before the concat operation.\n",
      "  temp_df = pd.concat(all_stats, ignore_index=True)\n"
     ]
    },
    {
     "name": "stdout",
     "output_type": "stream",
     "text": [
      "Progress saved to temp_nba_player_stats_partial_20250303_145947.csv\n",
      "Retrying collection...\n"
     ]
    },
    {
     "name": "stderr",
     "output_type": "stream",
     "text": [
      "Iterating through the players: 100%|███████████████████████████████████████████████| 5011/5011 [02:14<00:00,  1.74s/it]\n",
      "C:\\Users\\takns\\AppData\\Local\\Temp\\ipykernel_12984\\4217009973.py:120: FutureWarning: The behavior of DataFrame concatenation with empty or all-NA entries is deprecated. In a future version, this will no longer exclude empty or all-NA columns when determining the result dtypes. To retain the old behavior, exclude the relevant entries before the concat operation.\n",
      "  combined_stats = pd.concat(all_stats, ignore_index=True)\n"
     ]
    },
    {
     "name": "stdout",
     "output_type": "stream",
     "text": [
      "Successfully collected data for 3671 players\n",
      "Total seasons recorded: 24552\n",
      "Year range: 1980 - 2025\n",
      "\n",
      "Available statistics:\n",
      "['SEASON_ID', 'TEAM_ABBREVIATION', 'PLAYER_AGE', 'GP', 'GS', 'MIN', 'FGM', 'FGA', 'FG_PCT', 'FG3M', 'FG3A', 'FG3_PCT', 'FTM', 'FTA', 'FT_PCT', 'OREB', 'DREB', 'REB', 'AST', 'STL', 'BLK', 'TOV', 'PF', 'PTS', 'SEASON_START_YEAR', 'PLAYER_NAME', 'MIN_PER_GAME', 'FGM_PER_GAME', 'FGA_PER_GAME', 'FG3M_PER_GAME', 'FG3A_PER_GAME', 'FTM_PER_GAME', 'FTA_PER_GAME', 'OREB_PER_GAME', 'DREB_PER_GAME', 'REB_PER_GAME', 'AST_PER_GAME', 'STL_PER_GAME', 'BLK_PER_GAME', 'TOV_PER_GAME', 'PF_PER_GAME', 'PTS_PER_GAME']\n",
      "\n",
      "Example data:\n",
      "     SEASON_ID TEAM_ABBREVIATION  PLAYER_AGE  GP    GS     MIN  FGM  FGA  \\\n",
      "8366   1985-86               LAL        22.0  82   1.0  1542.0  209  388   \n",
      "8367   1986-87               LAL        23.0  79  72.0  2240.0  316  587   \n",
      "8368   1987-88               LAL        24.0  82  64.0  2636.0  322  640   \n",
      "8369   1988-89               LAL        25.0  82  82.0  2510.0  401  758   \n",
      "8370   1989-90               LAL        26.0  82  82.0  2709.0  385  806   \n",
      "\n",
      "      FG_PCT  FG3M  ...  FTA_PER_GAME  OREB_PER_GAME  DREB_PER_GAME  \\\n",
      "8366   0.539   1.0  ...          2.04           1.95           2.70   \n",
      "8367   0.538   0.0  ...          3.57           2.66           5.13   \n",
      "8368   0.503   0.0  ...          4.62           2.99           5.67   \n",
      "8369   0.529   4.0  ...          4.38           3.15           5.87   \n",
      "8370   0.478  13.0  ...          4.51           3.20           5.49   \n",
      "\n",
      "      REB_PER_GAME  AST_PER_GAME  STL_PER_GAME  BLK_PER_GAME  TOV_PER_GAME  \\\n",
      "8366          4.65          0.66          0.60          0.60          1.21   \n",
      "8367          7.78          1.06          0.89          1.01          1.29   \n",
      "8368          8.66          1.13          1.06          0.55          1.46   \n",
      "8369          9.01          1.26          1.15          0.67          1.45   \n",
      "8370          8.68          1.10          0.80          0.61          1.41   \n",
      "\n",
      "      PF_PER_GAME  PTS_PER_GAME  \n",
      "8366         2.79          6.35  \n",
      "8367         2.16         10.78  \n",
      "8368         2.49         11.43  \n",
      "8369         2.10         13.27  \n",
      "8370         2.52         12.94  \n",
      "\n",
      "[5 rows x 42 columns]\n"
     ]
    }
   ],
   "source": [
    "from nba_api.stats.endpoints import playercareerstats\n",
    "from nba_api.stats.static import players\n",
    "import pandas as pd\n",
    "import time\n",
    "from tqdm import tqdm\n",
    "import logging\n",
    "from datetime import datetime\n",
    "\n",
    "class NBADataCollector:\n",
    "    def __init__(self):\n",
    "        self.start_time = datetime.now().strftime(\"%Y%m%d_%H%M%S\") # storing the start time\n",
    "        \n",
    "        logging.basicConfig(\n",
    "            filename=\"nba_data_collection.log\",\n",
    "            level=logging.INFO,\n",
    "            format=\"%(asctime)s - %(levelname)s - %(message)s\"\n",
    "        )\n",
    "\n",
    "    def get_all_players(self):\n",
    "        \"\"\"\n",
    "        Get a list of all NBA players in the database\n",
    "        \"\"\"\n",
    "        \n",
    "        try:\n",
    "            return players.get_players()\n",
    "        except Exception as e:\n",
    "            logging.error(f\"Error fetching players list: {str(e)}\")\n",
    "            return []\n",
    "    \n",
    "    def get_player_stats(self, player_id):\n",
    "        \"\"\"\n",
    "        Get career stats broken down by season for a single player\n",
    "        Raises exceptions in case of a timeout to be handled by the caller function\n",
    "        \"\"\"\n",
    "        \n",
    "        try:\n",
    "            time.sleep(0.6)  # rate limiting to not get timed out by the NBA.\n",
    "            career = playercareerstats.PlayerCareerStats(\n",
    "                player_id=player_id\n",
    "            )\n",
    "            df = career.get_data_frames()[0]\n",
    "            return df\n",
    "        \n",
    "        except Exception as e:\n",
    "            logging.error(f\"Timeout/Request error fetching stats for player ID {player_id}: {str(e)}\")\n",
    "            raise # re-raise all exceptions to be handled by the caller\n",
    "\n",
    "    def season_id_to_year(self, season_id):\n",
    "        \"\"\"\n",
    "        Convert NBA API season ID to end year\n",
    "        The NBA API's format for seasons is \"YYYY-YY\" (\"1968-69\", \"2022-23\")\n",
    "        Returns the end year (1969, 2023)\n",
    "        \"\"\"\n",
    "        try:\n",
    "            start_year = int(season_id.split('-')[0])\n",
    "            return start_year + 1\n",
    "        except:\n",
    "            return None\n",
    "\n",
    "    def save_data(self, data, filename=None):\n",
    "        \"\"\"\n",
    "        Saves the collected data\n",
    "        \"\"\"\n",
    "        \n",
    "        if filename is None:\n",
    "            filename = f'nba_player_stats_{datetime.now().strftime(\"%Y%m%d\")}.csv'\n",
    "        \n",
    "        data.to_csv(filename, index=False)\n",
    "        logging.info(f\"Data saved to {filename}\")\n",
    "\n",
    "    def collect_all_players_stats(self, start_year=1980, retry_delay=600): # 600 secs = 10 minutes\n",
    "        \"\"\"\n",
    "        Collect the stats for all NBA players since start_year\n",
    "        Pauses and retries from the last player in case of timeout.\n",
    "        Saves the progress incrementally whenever there's an error or timeout.\n",
    "        \n",
    "        start_year: Earliest season to include (defaults to 1980)\n",
    "        retry_delay: Time it takes to retry in case of timeout.\n",
    "        \"\"\"\n",
    "        \n",
    "        all_players = self.get_all_players()\n",
    "        logging.info(f\"Found {len(all_players)} players in total\")\n",
    "        \n",
    "        all_stats = []\n",
    "        current_index = 0\n",
    "\n",
    "        while current_index < len(all_players):\n",
    "            try:\n",
    "                for player in tqdm(all_players[current_index:], desc=\"Iterating through the players\", initial=current_index, total=len(all_players)):\n",
    "                    player_stats = self.get_player_stats(player[\"id\"])\n",
    "    \n",
    "                    if player_stats is not None:\n",
    "                        player_stats[\"SEASON_START_YEAR\"] = player_stats[\"SEASON_ID\"].apply(self.season_id_to_year)\n",
    "                        player_stats = player_stats[player_stats[\"SEASON_START_YEAR\"] >= start_year]\n",
    "                        \n",
    "                        if not player_stats.empty:\n",
    "                            player_stats[\"PLAYER_NAME\"] = player[\"full_name\"]\n",
    "                            all_stats.append(player_stats)\n",
    "                    \n",
    "                    current_index += 1\n",
    "                    \n",
    "                break # if loop finished without timeout\n",
    "\n",
    "            except Exception as e:\n",
    "                logging.error(f\"Error at player index {current_index} ({all_players[current_index]['full_name']}): {str(e)}\")\n",
    "                print(f\"\\nTimeout occurred at player: {all_players[current_index]['full_name']}\")\n",
    "                print(f\"Successfully processed {current_index} out of {len(all_players)} players\")\n",
    "                print(f\"Waiting {retry_delay/60} minutes before retrying...\")\n",
    "                \n",
    "                if all_stats:  # saving the progress\n",
    "                    temp_df = pd.concat(all_stats, ignore_index=True)\n",
    "                    temp_df = temp_df.sort_values([\"PLAYER_NAME\", \"SEASON_START_YEAR\"])\n",
    "                    self.save_data(temp_df, filename=f\"temp_nba_player_stats_partial_{self.start_time}.csv\")\n",
    "                    print(f\"Progress saved to temp_nba_player_stats_partial_{self.start_time}.csv\")\n",
    "                \n",
    "                time.sleep(retry_delay)\n",
    "                print(\"Retrying collection...\")\n",
    "    \n",
    "        if all_stats:\n",
    "            combined_stats = pd.concat(all_stats, ignore_index=True)\n",
    "            combined_stats = combined_stats.sort_values([\"PLAYER_NAME\", \"SEASON_START_YEAR\"])\n",
    "            return combined_stats\n",
    "        return None\n",
    "\n",
    "    def PerGameCalculator(self, df):\n",
    "        \"\"\"\n",
    "        Calculates per-game statistics from season totals\n",
    "        \"\"\"\n",
    "\n",
    "        if df is None or df.empty:\n",
    "            logging.warning(\"Empty DataFrame received in PerGameCalculator\")\n",
    "            return df\n",
    " \n",
    "        counting_stats = ['MIN', 'FGM', 'FGA', 'FG3M', 'FG3A', 'FTM', 'FTA', \n",
    "                         'OREB', 'DREB', 'REB', 'AST', 'STL', 'BLK', 'TOV', 'PF', 'PTS']  # the list of counting stats to convert to per-game\n",
    "        \n",
    "\n",
    "        df_per_game = df.copy() # creating a copy to avoid modifying the original DataFrame\n",
    "        \n",
    "\n",
    "        for stat in counting_stats:\n",
    "            if stat in df.columns:\n",
    "                new_col = f\"{stat}_PER_GAME\"\n",
    "                df_per_game[new_col] = df[stat] / df['GP']\n",
    "                df_per_game[new_col] = df_per_game[new_col].round(2)\n",
    "        \n",
    "        return df_per_game\n",
    "\n",
    "def main():\n",
    "    collector = NBADataCollector()\n",
    "\n",
    "    while True:\n",
    "        per_mode = input(\"Enter stats type (1 for Totals, 2 for Per Game): \").strip()\n",
    "        if per_mode in (\"1\", \"2\"):\n",
    "            break\n",
    "        print(\"Please enter 1 for Totals or 2 for Per Game.\")\n",
    "        \n",
    "    per_mode = \"Totals\" if per_mode == \"1\" else \"PerGame\"\n",
    "    \n",
    "    logging.info(f\"Starting data collection. Stat type = {per_mode}\")\n",
    "    all_stats = collector.collect_all_players_stats(start_year=1980)\n",
    "\n",
    "    if per_mode == \"PerGame\":\n",
    "        all_stats = collector.PerGameCalculator(all_stats)\n",
    "\n",
    "    all_stats = all_stats.drop(columns=[\"PLAYER_ID\", \"TEAM_ID\", \"LEAGUE_ID\"], errors=\"ignore\")\n",
    "        \n",
    "    collector.save_data(all_stats)\n",
    "    print(f\"Successfully collected data for {len(all_stats[\"PLAYER_NAME\"].unique())} players\")\n",
    "    print(f\"Total seasons recorded: {len(all_stats)}\")\n",
    "    print(f\"Year range: {all_stats[\"SEASON_START_YEAR\"].min()} - {all_stats[\"SEASON_START_YEAR\"].max()}\")\n",
    "    \n",
    "    print(\"\\nAvailable statistics:\")\n",
    "    print(all_stats.columns.tolist())\n",
    "    \n",
    "    print(\"\\nExample data:\")\n",
    "    print(all_stats.head())\n",
    "\n",
    "\n",
    "        \n",
    "\n",
    "if __name__ == \"__main__\":\n",
    "    main()"
   ]
  }
 ],
 "metadata": {
  "kernelspec": {
   "display_name": "Python 3 (ipykernel)",
   "language": "python",
   "name": "python3"
  },
  "language_info": {
   "codemirror_mode": {
    "name": "ipython",
    "version": 3
   },
   "file_extension": ".py",
   "mimetype": "text/x-python",
   "name": "python",
   "nbconvert_exporter": "python",
   "pygments_lexer": "ipython3",
   "version": "3.12.7"
  }
 },
 "nbformat": 4,
 "nbformat_minor": 5
}
