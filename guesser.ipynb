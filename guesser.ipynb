{
 "cells": [
  {
   "cell_type": "code",
   "execution_count": 1,
   "id": "2fc18d1b-0669-4cff-a7a1-2e43dafd5706",
   "metadata": {},
   "outputs": [],
   "source": [
    "import tensorflow as tf\n",
    "import pandas as pd\n",
    "import numpy as np\n",
    "import json"
   ]
  },
  {
   "cell_type": "code",
   "execution_count": 2,
   "id": "6a343efd-f348-4076-8e66-e81ebb151c57",
   "metadata": {},
   "outputs": [],
   "source": [
    "model = tf.keras.models.load_model(\"nba_stats_predictor_model.keras\") # loading the model\n",
    "max_sequence_length = model.input_shape[1]"
   ]
  },
  {
   "cell_type": "code",
   "execution_count": 3,
   "id": "1e914e26-2783-4196-8ba7-5b02e60e9c4d",
   "metadata": {},
   "outputs": [],
   "source": [
    "with open(\"normalization_params.json\", \"r\") as f: # loading the normalization parameters\n",
    "    params = json.load(f)\n",
    "    means = params[\"means\"]\n",
    "    stds = params[\"stds\"]\n",
    "    stats_columns = params[\"stats_columns\"]"
   ]
  },
  {
   "cell_type": "code",
   "execution_count": 4,
   "id": "fdcba4f3-572b-4bc1-98ea-1513aa576b90",
   "metadata": {},
   "outputs": [
    {
     "data": {
      "text/html": [
       "<div>\n",
       "<style scoped>\n",
       "    .dataframe tbody tr th:only-of-type {\n",
       "        vertical-align: middle;\n",
       "    }\n",
       "\n",
       "    .dataframe tbody tr th {\n",
       "        vertical-align: top;\n",
       "    }\n",
       "\n",
       "    .dataframe thead th {\n",
       "        text-align: right;\n",
       "    }\n",
       "</style>\n",
       "<table border=\"1\" class=\"dataframe\">\n",
       "  <thead>\n",
       "    <tr style=\"text-align: right;\">\n",
       "      <th></th>\n",
       "      <th>PLAYER_AGE</th>\n",
       "      <th>GP</th>\n",
       "      <th>SEASON_START_YEAR</th>\n",
       "      <th>PLAYER_NAME</th>\n",
       "      <th>MIN_PER_GAME</th>\n",
       "      <th>FGM_PER_GAME</th>\n",
       "      <th>FGA_PER_GAME</th>\n",
       "      <th>FG3M_PER_GAME</th>\n",
       "      <th>FG3A_PER_GAME</th>\n",
       "      <th>FTM_PER_GAME</th>\n",
       "      <th>...</th>\n",
       "      <th>OREB_PER_GAME</th>\n",
       "      <th>DREB_PER_GAME</th>\n",
       "      <th>REB_PER_GAME</th>\n",
       "      <th>AST_PER_GAME</th>\n",
       "      <th>STL_PER_GAME</th>\n",
       "      <th>BLK_PER_GAME</th>\n",
       "      <th>TOV_PER_GAME</th>\n",
       "      <th>PF_PER_GAME</th>\n",
       "      <th>PTS_PER_GAME</th>\n",
       "      <th>is_traded</th>\n",
       "    </tr>\n",
       "  </thead>\n",
       "  <tbody>\n",
       "    <tr>\n",
       "      <th>0</th>\n",
       "      <td>-1.210760</td>\n",
       "      <td>1.149459</td>\n",
       "      <td>-1.445141</td>\n",
       "      <td>A.C. Green</td>\n",
       "      <td>-0.153427</td>\n",
       "      <td>-0.284806</td>\n",
       "      <td>-0.482820</td>\n",
       "      <td>-0.724115</td>\n",
       "      <td>-0.766991</td>\n",
       "      <td>-0.225620</td>\n",
       "      <td>...</td>\n",
       "      <td>1.079864</td>\n",
       "      <td>0.068718</td>\n",
       "      <td>0.412616</td>\n",
       "      <td>-0.676081</td>\n",
       "      <td>-0.148909</td>\n",
       "      <td>0.363463</td>\n",
       "      <td>-0.042408</td>\n",
       "      <td>1.030401</td>\n",
       "      <td>-0.345358</td>\n",
       "      <td>-0.355291</td>\n",
       "    </tr>\n",
       "    <tr>\n",
       "      <th>1</th>\n",
       "      <td>-0.967355</td>\n",
       "      <td>1.031047</td>\n",
       "      <td>-1.368282</td>\n",
       "      <td>A.C. Green</td>\n",
       "      <td>0.793580</td>\n",
       "      <td>0.346263</td>\n",
       "      <td>0.087211</td>\n",
       "      <td>-0.738641</td>\n",
       "      <td>-0.772483</td>\n",
       "      <td>0.848692</td>\n",
       "      <td>...</td>\n",
       "      <td>1.907163</td>\n",
       "      <td>1.402204</td>\n",
       "      <td>1.640346</td>\n",
       "      <td>-0.462926</td>\n",
       "      <td>0.467149</td>\n",
       "      <td>1.188166</td>\n",
       "      <td>0.053856</td>\n",
       "      <td>0.296719</td>\n",
       "      <td>0.372650</td>\n",
       "      <td>-0.355291</td>\n",
       "    </tr>\n",
       "    <tr>\n",
       "      <th>2</th>\n",
       "      <td>-0.723951</td>\n",
       "      <td>1.149459</td>\n",
       "      <td>-1.291423</td>\n",
       "      <td>A.C. Green</td>\n",
       "      <td>1.170399</td>\n",
       "      <td>0.315798</td>\n",
       "      <td>0.165326</td>\n",
       "      <td>-0.738641</td>\n",
       "      <td>-0.794450</td>\n",
       "      <td>1.399801</td>\n",
       "      <td>...</td>\n",
       "      <td>2.291682</td>\n",
       "      <td>1.698534</td>\n",
       "      <td>1.985522</td>\n",
       "      <td>-0.425624</td>\n",
       "      <td>0.828286</td>\n",
       "      <td>0.262890</td>\n",
       "      <td>0.258415</td>\n",
       "      <td>0.681029</td>\n",
       "      <td>0.478001</td>\n",
       "      <td>-0.355291</td>\n",
       "    </tr>\n",
       "    <tr>\n",
       "      <th>3</th>\n",
       "      <td>-0.480546</td>\n",
       "      <td>1.149459</td>\n",
       "      <td>-1.214564</td>\n",
       "      <td>A.C. Green</td>\n",
       "      <td>1.017688</td>\n",
       "      <td>0.733609</td>\n",
       "      <td>0.469342</td>\n",
       "      <td>-0.666008</td>\n",
       "      <td>-0.690106</td>\n",
       "      <td>1.309112</td>\n",
       "      <td>...</td>\n",
       "      <td>2.478116</td>\n",
       "      <td>1.808286</td>\n",
       "      <td>2.122809</td>\n",
       "      <td>-0.356349</td>\n",
       "      <td>1.019477</td>\n",
       "      <td>0.504266</td>\n",
       "      <td>0.246382</td>\n",
       "      <td>0.226844</td>\n",
       "      <td>0.776226</td>\n",
       "      <td>-0.355291</td>\n",
       "    </tr>\n",
       "    <tr>\n",
       "      <th>4</th>\n",
       "      <td>-0.237141</td>\n",
       "      <td>1.149459</td>\n",
       "      <td>-1.137705</td>\n",
       "      <td>A.C. Green</td>\n",
       "      <td>1.258654</td>\n",
       "      <td>0.650917</td>\n",
       "      <td>0.593904</td>\n",
       "      <td>-0.506215</td>\n",
       "      <td>-0.497895</td>\n",
       "      <td>1.274232</td>\n",
       "      <td>...</td>\n",
       "      <td>2.536376</td>\n",
       "      <td>1.599757</td>\n",
       "      <td>1.993367</td>\n",
       "      <td>-0.441611</td>\n",
       "      <td>0.275959</td>\n",
       "      <td>0.383578</td>\n",
       "      <td>0.198250</td>\n",
       "      <td>0.715966</td>\n",
       "      <td>0.722740</td>\n",
       "      <td>-0.355291</td>\n",
       "    </tr>\n",
       "  </tbody>\n",
       "</table>\n",
       "<p>5 rows × 21 columns</p>\n",
       "</div>"
      ],
      "text/plain": [
       "   PLAYER_AGE        GP  SEASON_START_YEAR PLAYER_NAME  MIN_PER_GAME  \\\n",
       "0   -1.210760  1.149459          -1.445141  A.C. Green     -0.153427   \n",
       "1   -0.967355  1.031047          -1.368282  A.C. Green      0.793580   \n",
       "2   -0.723951  1.149459          -1.291423  A.C. Green      1.170399   \n",
       "3   -0.480546  1.149459          -1.214564  A.C. Green      1.017688   \n",
       "4   -0.237141  1.149459          -1.137705  A.C. Green      1.258654   \n",
       "\n",
       "   FGM_PER_GAME  FGA_PER_GAME  FG3M_PER_GAME  FG3A_PER_GAME  FTM_PER_GAME  \\\n",
       "0     -0.284806     -0.482820      -0.724115      -0.766991     -0.225620   \n",
       "1      0.346263      0.087211      -0.738641      -0.772483      0.848692   \n",
       "2      0.315798      0.165326      -0.738641      -0.794450      1.399801   \n",
       "3      0.733609      0.469342      -0.666008      -0.690106      1.309112   \n",
       "4      0.650917      0.593904      -0.506215      -0.497895      1.274232   \n",
       "\n",
       "   ...  OREB_PER_GAME  DREB_PER_GAME  REB_PER_GAME  AST_PER_GAME  \\\n",
       "0  ...       1.079864       0.068718      0.412616     -0.676081   \n",
       "1  ...       1.907163       1.402204      1.640346     -0.462926   \n",
       "2  ...       2.291682       1.698534      1.985522     -0.425624   \n",
       "3  ...       2.478116       1.808286      2.122809     -0.356349   \n",
       "4  ...       2.536376       1.599757      1.993367     -0.441611   \n",
       "\n",
       "   STL_PER_GAME  BLK_PER_GAME  TOV_PER_GAME  PF_PER_GAME  PTS_PER_GAME  \\\n",
       "0     -0.148909      0.363463     -0.042408     1.030401     -0.345358   \n",
       "1      0.467149      1.188166      0.053856     0.296719      0.372650   \n",
       "2      0.828286      0.262890      0.258415     0.681029      0.478001   \n",
       "3      1.019477      0.504266      0.246382     0.226844      0.776226   \n",
       "4      0.275959      0.383578      0.198250     0.715966      0.722740   \n",
       "\n",
       "   is_traded  \n",
       "0  -0.355291  \n",
       "1  -0.355291  \n",
       "2  -0.355291  \n",
       "3  -0.355291  \n",
       "4  -0.355291  \n",
       "\n",
       "[5 rows x 21 columns]"
      ]
     },
     "execution_count": 4,
     "metadata": {},
     "output_type": "execute_result"
    }
   ],
   "source": [
    "data_normalized = pd.read_csv(\"data_normalized.csv\")\n",
    "data_full_normalized = pd.read_csv(\"data_full_normalized.csv\")\n",
    "data_normalized.head()"
   ]
  },
  {
   "cell_type": "code",
   "execution_count": 5,
   "id": "621d2251-c3dc-4a91-a27d-00d383395787",
   "metadata": {},
   "outputs": [],
   "source": [
    "def inverse_normalize(normalized_preds, means, stds, columns):\n",
    "    \"\"\"\n",
    "    Retransform normalized predictions to the original scale.\n",
    "    \"\"\"\n",
    "    if len(normalized_preds.shape) == 1:\n",
    "        original_preds = np.empty_like(normalized_preds)\n",
    "        for i, col in enumerate(columns):\n",
    "            original_preds[i] = normalized_preds[i] * stds[col] + means[col]\n",
    "    else:\n",
    "        original_preds = np.empty_like(normalized_preds)\n",
    "        for i, col in enumerate(columns):\n",
    "            original_preds[:, i] = normalized_preds[:, i] * stds[col] + means[col]\n",
    "\n",
    "    return original_preds"
   ]
  },
  {
   "cell_type": "code",
   "execution_count": 6,
   "id": "8e7864d9-dadb-4492-b4de-45b6a13b0063",
   "metadata": {},
   "outputs": [
    {
     "name": "stdout",
     "output_type": "stream",
     "text": [
      "Predictions for the 2025-2026 season have been saved to 'predicted_2025_2026_season.csv'.\n"
     ]
    }
   ],
   "source": [
    "predictions = []\n",
    "\n",
    "current_season_players = data_normalized[data_normalized[\"SEASON_START_YEAR\"] == data_normalized[\"SEASON_START_YEAR\"].max()][\"PLAYER_NAME\"].unique()\n",
    "for player in current_season_players:\n",
    "    player_data = data_normalized[data_normalized[\"PLAYER_NAME\"] == player]\n",
    "    player_sequence = player_data.drop(columns=[\"PLAYER_NAME\", \"SEASON_START_YEAR\"]).values\n",
    "    player_sequence_padded = tf.keras.preprocessing.sequence.pad_sequences(\n",
    "        [player_sequence], dtype=\"float32\", maxlen=max_sequence_length, padding=\"pre\",value=-999.0\n",
    "    )\n",
    "\n",
    "    prediction = model.predict(player_sequence_padded, verbose=0)\n",
    "    original_prediction = inverse_normalize(prediction, means, stds, stats_columns)\n",
    "    \n",
    "    prediction_dict = dict(zip(stats_columns, original_prediction[0]))\n",
    "    prediction_dict[\"PLAYER_NAME\"] = player\n",
    "    prediction_dict[\"SEASON_START_YEAR\"] = 2025\n",
    "    predictions.append(prediction_dict)\n",
    "\n",
    "predictions_df = pd.DataFrame(predictions)\n",
    "predictions_df.to_csv('predicted_2025_2026_season.csv', index=False)\n",
    "\n",
    "print(\"Predictions for the 2025-2026 season have been saved to 'predicted_2025_2026_season.csv'.\")"
   ]
  },
  {
   "cell_type": "code",
   "execution_count": 7,
   "id": "a11904dd-c4a7-40c8-a9fc-d4a74c88a9fe",
   "metadata": {},
   "outputs": [
    {
     "name": "stdout",
     "output_type": "stream",
     "text": [
      "Top 10 Predicted Points Leaders for the 2024-2025 Season:\n",
      "\n",
      "            PLAYER_NAME PTS_PER_GAME\n",
      "            Luka Dončić         31.1\n",
      "            Joel Embiid         30.2\n",
      "Shai Gilgeous-Alexander         29.7\n",
      "  Giannis Antetokounmpo         29.0\n",
      "           Jayson Tatum         27.5\n",
      "        Anthony Edwards         27.1\n",
      "       Donovan Mitchell         26.5\n",
      "           Nikola Jokić         25.4\n",
      "          Jalen Brunson         25.3\n",
      "           Devin Booker         25.3\n"
     ]
    }
   ],
   "source": [
    "top_10_pts_per_game = predictions_df[['PLAYER_NAME', 'PTS_PER_GAME']].sort_values(by='PTS_PER_GAME', ascending=False).head(10)\n",
    "print(\"Top 10 Predicted Points Leaders for the 2024-2025 Season:\\n\")\n",
    "print(top_10_pts_per_game.to_string(index=False, formatters={\"PTS_PER_GAME\": \"{:.1f}\".format}))"
   ]
  },
  {
   "cell_type": "code",
   "execution_count": 8,
   "id": "deddbfbc-9c2d-46d1-83f6-b7a17e2c2f4e",
   "metadata": {},
   "outputs": [
    {
     "name": "stdout",
     "output_type": "stream",
     "text": [
      "Top 10 Predicted Rebounds Leaders for the 2024-2025 Season:\n",
      "\n",
      "          PLAYER_NAME REB_PER_GAME\n",
      "     Domantas Sabonis         12.3\n",
      "         Nikola Jokić         12.1\n",
      "        Anthony Davis         11.5\n",
      "          Rudy Gobert         11.3\n",
      "Giannis Antetokounmpo         11.1\n",
      "          Jalen Duren         11.1\n",
      "          Joel Embiid         10.9\n",
      "        Jarrett Allen         10.3\n",
      "    Victor Wembanyama         10.3\n",
      "        Deandre Ayton         10.2\n"
     ]
    }
   ],
   "source": [
    "top_10_reb_per_game = predictions_df[['PLAYER_NAME', 'REB_PER_GAME']].sort_values(by='REB_PER_GAME', ascending=False).head(10)\n",
    "print(\"Top 10 Predicted Rebounds Leaders for the 2024-2025 Season:\\n\")\n",
    "print(top_10_reb_per_game.to_string(index=False, formatters={\"REB_PER_GAME\": \"{:.1f}\".format}))"
   ]
  },
  {
   "cell_type": "code",
   "execution_count": 9,
   "id": "d4464a7d-d9d3-475c-bf8d-f41e836519d4",
   "metadata": {},
   "outputs": [
    {
     "name": "stdout",
     "output_type": "stream",
     "text": [
      "Top 10 Predicted Assists Leaders for the 2024-2025 Season:\n",
      "\n",
      "      PLAYER_NAME AST_PER_GAME\n",
      "      Luka Dončić          9.3\n",
      "Tyrese Haliburton          9.2\n",
      "       Trae Young          9.2\n",
      "     Nikola Jokić          8.2\n",
      "      LaMelo Ball          7.8\n",
      "     LeBron James          7.6\n",
      "        Ja Morant          7.2\n",
      "     James Harden          7.1\n",
      " Domantas Sabonis          6.9\n",
      "  Cade Cunningham          6.9\n"
     ]
    }
   ],
   "source": [
    "top_10_ast_per_game = predictions_df[['PLAYER_NAME', 'AST_PER_GAME']].sort_values(by='AST_PER_GAME', ascending=False).head(10)\n",
    "print(\"Top 10 Predicted Assists Leaders for the 2024-2025 Season:\\n\")\n",
    "print(top_10_ast_per_game.to_string(index=False, formatters={\"AST_PER_GAME\": \"{:.1f}\".format}))"
   ]
  },
  {
   "cell_type": "markdown",
   "id": "4a38604b-3ff5-4b8e-b53c-b49f896a3604",
   "metadata": {},
   "source": [
    "Let's see what the average error was for each category:"
   ]
  },
  {
   "cell_type": "code",
   "execution_count": 10,
   "id": "bf0624e6-b178-4976-9c59-82d68c07c1ce",
   "metadata": {},
   "outputs": [],
   "source": [
    "data_full = pd.read_csv(\"data_full.csv\")"
   ]
  },
  {
   "cell_type": "code",
   "execution_count": 11,
   "id": "dca0a819-b9f5-41ea-85ad-7f00a955149e",
   "metadata": {},
   "outputs": [
    {
     "name": "stdout",
     "output_type": "stream",
     "text": [
      "\n",
      "Average Absolute Errors:\n",
      "\n",
      "GP: ±16.3\n",
      "MIN_PER_GAME: ±4.1\n",
      "FGM_PER_GAME: ±0.8\n",
      "FGA_PER_GAME: ±1.6\n",
      "FG3M_PER_GAME: ±0.3\n",
      "FG3A_PER_GAME: ±0.8\n",
      "FTM_PER_GAME: ±0.4\n",
      "FTA_PER_GAME: ±0.5\n",
      "OREB_PER_GAME: ±0.3\n",
      "DREB_PER_GAME: ±0.6\n",
      "REB_PER_GAME: ±0.8\n",
      "AST_PER_GAME: ±0.6\n",
      "STL_PER_GAME: ±0.2\n",
      "BLK_PER_GAME: ±0.1\n",
      "TOV_PER_GAME: ±0.3\n",
      "PF_PER_GAME: ±0.4\n",
      "PTS_PER_GAME: ±2.2\n"
     ]
    }
   ],
   "source": [
    "merged_df = predictions_df.merge(data_full, on=[\"PLAYER_NAME\", \"SEASON_START_YEAR\"], suffixes=(\"_pred\", \"_actual\"))\n",
    "\n",
    "error_dict = {}\n",
    "for stat in stats_columns:\n",
    "    error_dict[stat] = (merged_df[f\"{stat}_pred\"] - merged_df[f\"{stat}_actual\"]).abs().mean()\n",
    "\n",
    "print(\"\\nAverage Absolute Errors:\\n\")\n",
    "for stat, error in error_dict.items():\n",
    "    print(f\"{stat}: ±{error:.1f}\")"
   ]
  },
  {
   "cell_type": "markdown",
   "id": "e71b90a0-b217-429d-91d1-dfe4ef495baf",
   "metadata": {},
   "source": [
    "Most of these are basically rounding errors. This data was excluded from the training and validation sets as well, so this proves the model is quite robust.\n",
    "\n",
    "Note that GP is pretty high only because the 2024-25 season isn't over yet. As more games are played, that value will shrink and the other errors might actually decrease as well."
   ]
  },
  {
   "cell_type": "markdown",
   "id": "33357ff2-8030-42d0-90c1-c623359b7e33",
   "metadata": {},
   "source": [
    "Let's predict for a random historical season."
   ]
  },
  {
   "cell_type": "code",
   "execution_count": 12,
   "id": "c3579538-3dda-4f6f-9fb7-6e4ddb1e0456",
   "metadata": {},
   "outputs": [
    {
     "name": "stdout",
     "output_type": "stream",
     "text": [
      "\u001b[1m1/1\u001b[0m \u001b[32m━━━━━━━━━━━━━━━━━━━━\u001b[0m\u001b[37m\u001b[0m \u001b[1m0s\u001b[0m 39ms/step\n",
      "LeBron's Predicted Stats for the 2024-2025 Season:\n",
      "  GP: 59.7\n",
      "  MIN_PER_GAME: 33.2\n",
      "  FGM_PER_GAME: 8.6\n",
      "  FGA_PER_GAME: 18.1\n",
      "  FG3M_PER_GAME: 2.0\n",
      "  FG3A_PER_GAME: 5.5\n",
      "  FTM_PER_GAME: 3.7\n",
      "  FTA_PER_GAME: 4.6\n",
      "  OREB_PER_GAME: 1.0\n",
      "  DREB_PER_GAME: 6.3\n",
      "  REB_PER_GAME: 7.4\n",
      "  AST_PER_GAME: 7.6\n",
      "  STL_PER_GAME: 1.0\n",
      "  BLK_PER_GAME: 0.6\n",
      "  TOV_PER_GAME: 3.0\n",
      "  PF_PER_GAME: 1.4\n",
      "  PTS_PER_GAME: 23.1\n"
     ]
    }
   ],
   "source": [
    "lebron_data = data_normalized[data_normalized[\"PLAYER_NAME\"] == \"LeBron James\"].sort_values(by=\"SEASON_START_YEAR\").reset_index(drop=True)\n",
    "lebron_sequence = lebron_data.drop(columns=[\"PLAYER_NAME\", \"SEASON_START_YEAR\"]).values\n",
    "lebron_sequence_padded = tf.keras.preprocessing.sequence.pad_sequences(\n",
    "                        [lebron_sequence], dtype=\"float32\", padding=\"pre\", value=-999.0, maxlen=max_sequence_length)\n",
    "\n",
    "prediction = model.predict(lebron_sequence_padded)\n",
    "\n",
    "lebron_prediction_original = inverse_normalize(prediction, means, stds, stats_columns)\n",
    "\n",
    "print(f\"LeBron's Predicted Stats for the 2024-2025 Season:\")\n",
    "for stat, pred_val in zip(stats_columns, lebron_prediction_original[0]):\n",
    "    print(f\"  {stat}: {pred_val:.1f}\")"
   ]
  },
  {
   "attachments": {
    "92445830-21f7-4bd5-a66f-1feceec63ad1.png": {
     "image/png": "[encoded data removed]"
    }
   },
   "cell_type": "markdown",
   "id": "56068c03-b9b1-442e-a37e-0fdc2f4a7256",
   "metadata": {},
   "source": [
    "For reference, here are his current averages (as of March 11th):\n",
    "![image.png](attachment:92445830-21f7-4bd5-a66f-1feceec63ad1.png)\n",
    "\n",
    "Lebron outperforming expectations as usual!\n",
    "\n",
    "What about next season?"
   ]
  },
  {
   "cell_type": "code",
   "execution_count": 13,
   "id": "101cccb1-201c-44e3-9e8f-7d4489c4d26f",
   "metadata": {},
   "outputs": [
    {
     "name": "stdout",
     "output_type": "stream",
     "text": [
      "\u001b[1m1/1\u001b[0m \u001b[32m━━━━━━━━━━━━━━━━━━━━\u001b[0m\u001b[37m\u001b[0m \u001b[1m0s\u001b[0m 31ms/step\n",
      "LeBron's Predicted Stats for the 2025-2026 Season:\n",
      "  GP: 56.4\n",
      "  MIN_PER_GAME: 32.6\n",
      "  FGM_PER_GAME: 8.4\n",
      "  FGA_PER_GAME: 17.3\n",
      "  FG3M_PER_GAME: 2.1\n",
      "  FG3A_PER_GAME: 5.7\n",
      "  FTM_PER_GAME: 3.2\n",
      "  FTA_PER_GAME: 4.1\n",
      "  OREB_PER_GAME: 1.0\n",
      "  DREB_PER_GAME: 6.5\n",
      "  REB_PER_GAME: 7.5\n",
      "  AST_PER_GAME: 7.6\n",
      "  STL_PER_GAME: 1.0\n",
      "  BLK_PER_GAME: 0.6\n",
      "  TOV_PER_GAME: 3.0\n",
      "  PF_PER_GAME: 1.5\n",
      "  PTS_PER_GAME: 22.0\n"
     ]
    }
   ],
   "source": [
    "lebron_data = data_full_normalized[data_full_normalized[\"PLAYER_NAME\"] == \"LeBron James\"].sort_values(by=\"SEASON_START_YEAR\").reset_index(drop=True)\n",
    "lebron_sequence = lebron_data.drop(columns=[\"PLAYER_NAME\", \"SEASON_START_YEAR\"]).values\n",
    "lebron_sequence_padded = tf.keras.preprocessing.sequence.pad_sequences(\n",
    "                        [lebron_sequence], dtype=\"float32\", padding=\"pre\", value=-999.0, maxlen=max_sequence_length)\n",
    "\n",
    "prediction = model.predict(lebron_sequence_padded)\n",
    "\n",
    "lebron_prediction_original = inverse_normalize(prediction, means, stds, stats_columns)\n",
    "\n",
    "print(f\"LeBron's Predicted Stats for the 2025-2026 Season:\")\n",
    "for stat, pred_val in zip(stats_columns, lebron_prediction_original[0]):\n",
    "    print(f\"  {stat}: {pred_val:.1f}\")"
   ]
  }
 ],
 "metadata": {
  "kernelspec": {
   "display_name": "Python 3 (ipykernel)",
   "language": "python",
   "name": "python3"
  },
  "language_info": {
   "codemirror_mode": {
    "name": "ipython",
    "version": 3
   },
   "file_extension": ".py",
   "mimetype": "text/x-python",
   "name": "python",
   "nbconvert_exporter": "python",
   "pygments_lexer": "ipython3",
   "version": "3.12.7"
  }
 },
 "nbformat": 4,
 "nbformat_minor": 5
}
